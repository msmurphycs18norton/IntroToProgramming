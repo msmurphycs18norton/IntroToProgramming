{
 "cells": [
  {
   "cell_type": "markdown",
   "metadata": {},
   "source": [
    "# If Statements in Python 🐍\n",
    "\n",
    "## 📚 What will we learn?\n",
    "\n",
    "- What are if statements?\n",
    "- How to use `if`, `elif`, and `else`?\n",
    "- Constructing conditional logic.\n",
    "\n"
   ]
  },
  {
   "cell_type": "markdown",
   "metadata": {},
   "source": [
    "## 🧠 What are If Statements?\n",
    "\n",
    "- If statements allow you to execute code based on conditions.\n",
    "- Syntax:\n",
    "  - `if`: Executes block if condition is true.\n",
    "  - `elif`: Executes block if previous conditions are false and condition is true.\n",
    "  - `else`: Executes block if all previous conditions are false.\n",
    "\n",
    "Change `x` to match the other conditions in the code below\n",
    "\n"
   ]
  },
  {
   "cell_type": "code",
   "execution_count": null,
   "metadata": {},
   "outputs": [],
   "source": [
    "x = 10\n",
    "if x > 15:\n",
    "    print(\"x is greater than 15\")\n",
    "elif x == 10:\n",
    "    print(\"x is 10\")\n",
    "else:\n",
    "    print(\"x is less than 10\")"
   ]
  },
  {
   "cell_type": "markdown",
   "metadata": {},
   "source": [
    "## 🔗 Using If Statements with Comparison Operators\n",
    "\n",
    "- Combine if statements with comparison operators for more complex conditions.\n",
    "- Comparison operators such as >= and < help evaluate numerical conditions."
   ]
  },
  {
   "cell_type": "code",
   "execution_count": null,
   "metadata": {},
   "outputs": [],
   "source": [
    "age = 18\n",
    "if age >= 18:\n",
    "    print(\"You are an adult.\")\n",
    "else:\n",
    "    print(\"You are a minor.\")"
   ]
  },
  {
   "cell_type": "markdown",
   "metadata": {},
   "source": [
    "### Interactive Activity\n",
    "\n",
    "Convert the following statement to an if-else statement:"
   ]
  },
  {
   "cell_type": "code",
   "execution_count": null,
   "metadata": {},
   "outputs": [],
   "source": [
    "# Convert the arithmetic problem 5 >= 3 to an if-else statement\n",
    "a = 5\n",
    "b = 3"
   ]
  },
  {
   "cell_type": "markdown",
   "metadata": {},
   "source": [
    "## 🚦 Nested If Statements\n",
    "\n",
    "- Use nested if statements for multiple layers of conditions.\n",
    "- The outer if checks the first condition.\n",
    "- The inner if checks the second condition.\n",
    "- Allows for more granular control and complex decision-making."
   ]
  },
  {
   "cell_type": "code",
   "execution_count": null,
   "metadata": {},
   "outputs": [],
   "source": [
    "number = 25\n",
    "if number > 10:\n",
    "    if number < 20:\n",
    "        print(\"Number is between 10 and 20.\")\n",
    "    else:\n",
    "        print(\"Number is greater than or equal to 20.\")\n",
    "else:\n",
    "    print(\"Number is 10 or less.\")"
   ]
  },
  {
   "cell_type": "markdown",
   "metadata": {},
   "source": [
    "### Interactive Activity\n",
    "\n",
    "Convert the following nested statement to a nested if statement:"
   ]
  },
  {
   "cell_type": "code",
   "execution_count": null,
   "metadata": {},
   "outputs": [],
   "source": [
    "# Convert the arithmetic problem (8 > 3) and (8 < 10) to a nested if statement\n",
    "x = 8"
   ]
  },
  {
   "cell_type": "markdown",
   "metadata": {},
   "source": [
    "## 🧩 Logical Expressions in If Statements\n",
    "\n",
    "- Use logical expressions (`and`, `or`, `not`) to combine conditions.\n",
    "- Logical expressions help create more precise and meaningful condition.\n",
    "- Combining multiple comparisons for complex conditions."
   ]
  },
  {
   "cell_type": "code",
   "execution_count": null,
   "metadata": {},
   "outputs": [],
   "source": [
    "temperature = 22\n",
    "if temperature > 0 and temperature < 30:\n",
    "    print(\"The weather is nice.\")\n",
    "else:\n",
    "    print(\"The weather is extreme.\")"
   ]
  },
  {
   "cell_type": "markdown",
   "metadata": {},
   "source": [
    "### Interactive Activity\n",
    "\n",
    "Convert the following arithmetic problem to a logical expression in an if statement:"
   ]
  },
  {
   "cell_type": "code",
   "execution_count": null,
   "metadata": {},
   "outputs": [],
   "source": [
    "# Convert the arithmetic problem (4 > 2) * (6 < 8) to an if statement\n",
    "a = 4\n",
    "b = 2\n",
    "c = 6\n",
    "d = 8"
   ]
  },
  {
   "cell_type": "markdown",
   "metadata": {},
   "source": [
    "## 📝 Example: Grading System\n",
    "- Using multiple elif statements allows for clear and organized decision-making for different ranges."
   ]
  },
  {
   "cell_type": "code",
   "execution_count": null,
   "metadata": {},
   "outputs": [],
   "source": [
    "score = 85\n",
    "if score >= 90:\n",
    "    grade = 'A'\n",
    "elif score >= 80:\n",
    "    grade = 'B'\n",
    "elif score >= 70:\n",
    "    grade = 'C'\n",
    "elif score >= 60:\n",
    "    grade = 'D'\n",
    "else:\n",
    "    grade = 'F'\n",
    "print(f\"Your grade is: {grade}\")"
   ]
  },
  {
   "cell_type": "markdown",
   "metadata": {},
   "source": [
    "## 🛠 Practice: Voting Eligibility Checker\n",
    "\n",
    "- Create a program that checks if a person is eligible to vote based on their\n",
    "  age. Make sure when the user is asked for their age they input a valid age. \n",
    "\n"
   ]
  },
  {
   "cell_type": "code",
   "execution_count": null,
   "metadata": {},
   "outputs": [],
   "source": []
  },
  {
   "cell_type": "markdown",
   "metadata": {},
   "source": [
    "<details>\n",
    "<summary>🔑 Click here for the solution</summary>\n",
    "\n",
    "```py\n",
    "age = int(input(\"Enter your age: \"))\n",
    "if age < 0:\n",
    "    print(\"Invalid age.\")\n",
    "elif age < 18:\n",
    "    print(\"You are not eligible to vote.\")\n",
    "elif age >= 18:\n",
    "    print(\"You are eligible to vote.\")\n",
    "```\n",
    "\n",
    "</details>"
   ]
  }
 ],
 "metadata": {
  "language_info": {
   "name": "python"
  }
 },
 "nbformat": 4,
 "nbformat_minor": 2
}
