{
 "cells": [
  {
   "cell_type": "markdown",
   "metadata": {},
   "source": [
    "# Comparison Operators and Logical Expressions in Python 🐍\n",
    "\n",
    "## 📚 What will we learn?\n",
    "\n",
    "- What are comparison operators?\n",
    "- How to use logical expressions with `and`, `or`, and `not`?"
   ]
  },
  {
   "cell_type": "markdown",
   "metadata": {},
   "source": [
    "\n",
    "## 🔍 What are Comparison Operators?\n",
    "\n",
    "- Comparison operators are used to compare two values. \n"
   ]
  },
  {
   "cell_type": "markdown",
   "metadata": {},
   "source": [
    "## ✨ Using `==` and `!=` Operators\n",
    "\n",
    "- The `==` and `!=` operators can be used to compare both numbers and strings.\n",
    "String comparisons are case-sensitive."
   ]
  },
  {
   "cell_type": "code",
   "execution_count": null,
   "metadata": {},
   "outputs": [],
   "source": [
    "x = 5\n",
    "y = 10\n",
    "print(x == y)  # False\n",
    "print(x != y)  # True\n",
    "\n",
    "print(\"apple\" == \"Apple\")  # False\n",
    "print(\"banana\" != \"Banana\")  # True"
   ]
  },
  {
   "cell_type": "markdown",
   "metadata": {},
   "source": [
    "## ✨ Using > and < Operators\n",
    "\n",
    "- The `>` and `<` operators are used to compare numerical values and determine their relative order."
   ]
  },
  {
   "cell_type": "code",
   "execution_count": null,
   "metadata": {},
   "outputs": [],
   "source": [
    "x = 5\n",
    "y = 10\n",
    "print(x > y)   # False\n",
    "print(x < y)   # True"
   ]
  },
  {
   "cell_type": "markdown",
   "metadata": {},
   "source": [
    "## ✨ Using >= and <= Operators\n",
    "\n",
    "- The `>=` and `<=` operators can be used to compare both numbers and strings."
   ]
  },
  {
   "cell_type": "code",
   "execution_count": null,
   "metadata": {},
   "outputs": [],
   "source": [
    "x = 5\n",
    "y = 5\n",
    "print(x >= y)  # True\n",
    "print(x <= y)  # True"
   ]
  },
  {
   "cell_type": "markdown",
   "metadata": {},
   "source": [
    "### Interactive Activity\n",
    "\n",
    "Let's create an interactive activity where students will write a program to compare user inputs using different comparison operators. "
   ]
  },
  {
   "cell_type": "code",
   "execution_count": null,
   "metadata": {},
   "outputs": [],
   "source": [
    "# Step 1: Get user inputs\n",
    "your_age = int(input(\"Enter your age: \"))\n",
    "friend_age = int(input(\"Enter your friend's age: \"))\n",
    "your_name = input(\"Enter your name: \")\n",
    "friend_name = input(\"Enter your friend's name: \")\n",
    "\n",
    "# Step 2: Compare ages\n",
    "age_equal = your_age == friend_age\n",
    "age_not_equal = your_age != friend_age\n",
    "younger_than_friend = your_age < friend_age\n",
    "older_than_friend = your_age > friend_age\n",
    "\n",
    "# Step 3: Compare names\n",
    "name_equal = your_name == friend_name\n",
    "name_not_equal = your_name != friend_name\n",
    "\n",
    "# Step 4: Print comparison results\n",
    "print(f\"Are you and your friend the same age? {age_equal}\")\n",
    "print(f\"Are you and your friend different ages? {age_not_equal}\")\n",
    "print(f\"Are you younger than your friend? {younger_than_friend}\")\n",
    "print(f\"Are you older than your friend? {older_than_friend}\")\n",
    "print(f\"Do you and your friend have the same name? {name_equal}\")\n",
    "print(f\"Do you and your friend have different names? {name_not_equal}\")"
   ]
  },
  {
   "cell_type": "markdown",
   "metadata": {},
   "source": [
    "\n",
    "## 🔗 Logical Expressions: `and`\n",
    "\n",
    "- `and` : Both conditions must be true.\n",
    "- If either condition is false, the result is false.\n",
    "- This operator is used to combine multiple conditions."
   ]
  },
  {
   "cell_type": "code",
   "execution_count": null,
   "metadata": {},
   "outputs": [],
   "source": [
    "a = True\n",
    "b = False\n",
    "print(a and b)  # False\n",
    "print(a and True)  # True\n",
    "print(b and False)  # False"
   ]
  },
  {
   "cell_type": "markdown",
   "metadata": {},
   "source": [
    "### Interactive Activity\n",
    "Try it out! Edit the code below, which uses the `and` operator, to check if two\n",
    "conditions are true:"
   ]
  },
  {
   "cell_type": "code",
   "execution_count": null,
   "metadata": {},
   "outputs": [],
   "source": [
    "# Define two conditions\n",
    "condition1 = (5 < 3)  \n",
    "condition2 = (10 < 20)  \n",
    "\n",
    "# Use the 'and' operator\n",
    "result = condition1 and condition2\n",
    "print(\"Both conditions are true:\", result)"
   ]
  },
  {
   "cell_type": "markdown",
   "metadata": {},
   "source": [
    "## 🔗 Logical Expressions: `or`\n",
    "\n",
    "- `or` : At least one condition must be true.\n",
    "- If both conditions are false, the result is false.\n",
    "- This operator is useful for combining multiple conditions where only one needs to be true."
   ]
  },
  {
   "cell_type": "code",
   "execution_count": null,
   "metadata": {},
   "outputs": [],
   "source": [
    "a = True\n",
    "b = False\n",
    "print(a or b)  # True\n",
    "print(b or False)  # False\n",
    "print(a or True)  # True"
   ]
  },
  {
   "cell_type": "markdown",
   "metadata": {},
   "source": [
    "### Interactive Activity\n",
    "Try it out! Edit the code below, which uses the `or` operator, to check if at least one condition is true:"
   ]
  },
  {
   "cell_type": "code",
   "execution_count": null,
   "metadata": {},
   "outputs": [],
   "source": [
    "# Define two conditions\n",
    "condition1 = (5 > 10)  \n",
    "condition2 = (10 > 20)  \n",
    "\n",
    "# Use the 'or' operator\n",
    "result = condition1 or condition2\n",
    "print(\"At least one condition is true:\", result)"
   ]
  },
  {
   "cell_type": "markdown",
   "metadata": {},
   "source": [
    "## 🔗 Logical Expressions: `not`\n",
    "\n",
    "- `not` : Inverts the truth value.\n",
    "- If a condition is true, `not` makes it false, and vice versa.\n",
    "- This operator is useful for negating a condition."
   ]
  },
  {
   "cell_type": "code",
   "execution_count": null,
   "metadata": {},
   "outputs": [],
   "source": [
    "a = True\n",
    "b = False\n",
    "print(not a)  # False\n",
    "print(not b)  # True"
   ]
  },
  {
   "cell_type": "markdown",
   "metadata": {},
   "source": [
    "### Interactive Activity\n",
    "Try it out! Edit the code below, which uses the `not` operator, to invert a condition:"
   ]
  },
  {
   "cell_type": "code",
   "execution_count": null,
   "metadata": {},
   "outputs": [],
   "source": [
    "# Define a condition\n",
    "condition = (5 > 3)  \n",
    "\n",
    "# Use the 'not' operator\n",
    "result = not condition\n",
    "print(\"The inverted condition is:\", result)"
   ]
  },
  {
   "cell_type": "markdown",
   "metadata": {},
   "source": [
    "## 🛠 Practice Problem: Weather Activity Suggestion\n",
    "\n",
    "Create a Python program that suggests an activity based on the weather conditions. The program will ask the user for the current temperature and whether it is raining or not. Based on the inputs, it will suggest one of the following activities:\n",
    "\n",
    "- If the temperature is above 25°C and it's not raining, suggest \"Go for a swim.\"\n",
    "\n",
    "- If the temperature is between 15°C and 25°C and it's not raining, suggest \"Go\n",
    "for a hike.\"\n",
    "\n",
    "- If the temperature is below 15°C and it's not raining, suggest \"Read a book at\n",
    "home.\"\n",
    "\n",
    "- If it's raining, suggest \"Watch a movie indoors.\""
   ]
  },
  {
   "cell_type": "code",
   "execution_count": null,
   "metadata": {},
   "outputs": [],
   "source": []
  },
  {
   "cell_type": "markdown",
   "metadata": {},
   "source": [
    "<details>\n",
    "<summary>🔑 Click here for the solution</summary>\n",
    "\n",
    "```py\n",
    "# Step 1: Get the user's input\n",
    "temperature = float(input(\"Enter the current temperature in °C: \"))\n",
    "raining = input(\"Is it raining? (yes/no): \").strip().lower()\n",
    "\n",
    "# Step 2: Determine the activity suggestion using logical expressions\n",
    "if raining == 'yes':\n",
    "    activity = \"Watch a movie indoors.\"\n",
    "elif temperature > 25:\n",
    "    activity = \"Go for a swim.\"\n",
    "elif 15 <= temperature <= 25:\n",
    "    activity = \"Go for a hike.\"\n",
    "else:\n",
    "    activity = \"Read a book at home.\"\n",
    "\n",
    "# Step 3: Print the suggestion\n",
    "print(\"Suggested activity:\", activity)\n",
    "```\n",
    "\n",
    "</details>"
   ]
  }
 ],
 "metadata": {
  "language_info": {
   "name": "python"
  }
 },
 "nbformat": 4,
 "nbformat_minor": 2
}
