{
 "cells": [
  {
   "cell_type": "markdown",
   "metadata": {},
   "source": [
    "# Boolean Math in Python 🐍\n",
    "\n",
    "## 📚 What will we learn?\n",
    "\n",
    "- What is Boolean math?\n",
    "- The order of operations in logical expressions\n",
    "- How to perform Boolean operations?\n",
    "- Understanding Boolean values in arithmetic operations.\n",
    "\n"
   ]
  },
  {
   "cell_type": "markdown",
   "metadata": {},
   "source": [
    "## 📏 What is Boolean Math?\n",
    "\n",
    "- Boolean values: `True` and `False`\n",
    "- Used in logical operations and conditions\n",
    "- `True` is equivalent to `1`\n",
    "- `False` is equivalent to `0`\n",
    "\n"
   ]
  },
  {
   "cell_type": "code",
   "execution_count": null,
   "metadata": {},
   "outputs": [],
   "source": [
    "print(True)   # 1\n",
    "print(False)  # 0"
   ]
  },
  {
   "cell_type": "markdown",
   "metadata": {},
   "source": [
    "## ✖️ `and` as Multiplication in Boolean Math\n",
    "\n",
    "- `and` is similar to multiplication.\n",
    "- Both must be `True` to be `True` (1 * 1 = 1).\n",
    "- This similarity to multiplication makes it easier to understand and use `and` in logical operations, as the principles are consistent with basic arithmetic."
   ]
  },
  {
   "cell_type": "code",
   "execution_count": null,
   "metadata": {},
   "outputs": [],
   "source": [
    "print(True and True)   # True (1 * 1)\n",
    "print(True and False)  # False (1 * 0)"
   ]
  },
  {
   "cell_type": "markdown",
   "metadata": {},
   "source": [
    "### Interactive Activity\n",
    "\n",
    "Convert the following arithmetic problem to a Boolean expression using the `and` operator:"
   ]
  },
  {
   "cell_type": "code",
   "execution_count": null,
   "metadata": {},
   "outputs": [],
   "source": [
    "# Convert the arithmetic problem 1 * 1 * 0 to a Boolean expression\n",
    "\n",
    "print(\"The result of the Boolean expression is:\", result)"
   ]
  },
  {
   "cell_type": "markdown",
   "metadata": {},
   "source": [
    "## ➕ `or` as Addition in Boolean Math\n",
    "\n",
    "- `or` is similar to addition.\n",
    "- At least one must be `True` to be `True` (1 + 0 = 1).\n",
    "- This similarity to addition helps to conceptualize `or` operations, reinforcing the logical principles with familiar arithmetic concepts."
   ]
  },
  {
   "cell_type": "code",
   "execution_count": null,
   "metadata": {},
   "outputs": [],
   "source": [
    "print(True or False)   # True (1 + 0)\n",
    "print(False or False)  # False (0 + 0)"
   ]
  },
  {
   "cell_type": "markdown",
   "metadata": {},
   "source": [
    "### Interactive Activity\n",
    "\n",
    "Convert the following arithmetic problem to a Boolean expression using the or operator:"
   ]
  },
  {
   "cell_type": "code",
   "execution_count": null,
   "metadata": {},
   "outputs": [],
   "source": [
    "# Convert the arithmetic problem 0 + 0 + 1 to a Boolean expression\n",
    "\n",
    "print(\"The result of the Boolean expression is:\", result)"
   ]
  },
  {
   "cell_type": "markdown",
   "metadata": {},
   "source": [
    "## 🧮 Order of Operations in Logical Expressions\n",
    "\n",
    "- Use parentheses `()` to group expressions, they are evaluated first.\n",
    "- The order the expression is evaluated in: `not`, `and`, `or`.\n",
    "- Understanding the order of operations helps you write complex logical expressions that are evaluated correctly, ensuring your code behaves as expected."
   ]
  },
  {
   "cell_type": "code",
   "execution_count": null,
   "metadata": {},
   "outputs": [],
   "source": [
    "result = (True or False) and not False\n",
    "print(result)  # True"
   ]
  },
  {
   "cell_type": "markdown",
   "metadata": {},
   "source": [
    "### Interactive Activity\n",
    "\n",
    "Convert the following arithmetic problem to a Boolean expression respecting the order of operations:"
   ]
  },
  {
   "cell_type": "code",
   "execution_count": null,
   "metadata": {},
   "outputs": [],
   "source": [
    "# Convert the arithmetic problem (1 + 0) * (1 - 0) to a Boolean expression\n",
    "\n",
    "print(\"The result of the Boolean expression is:\", result)"
   ]
  },
  {
   "cell_type": "markdown",
   "metadata": {},
   "source": [
    "## 🧠 Boolean Values in Arithmetic Operations\n",
    "\n",
    "- Combining Boolean values with integers.\n",
    "- Boolean values can be used in arithmetic operations with integers.\n",
    "- Using Boolean values in arithmetic operations allows for flexible and dynamic coding solutions, bridging the gap between logical conditions and numerical calculations."
   ]
  },
  {
   "cell_type": "code",
   "execution_count": null,
   "metadata": {},
   "outputs": [],
   "source": [
    "result = True + 3\n",
    "print(result)  # 4\n",
    "\n",
    "result = False + 10\n",
    "print(result)  # 10"
   ]
  },
  {
   "cell_type": "markdown",
   "metadata": {},
   "source": [
    "## 🛠 Practice Problem: Light Switch Simulation\n",
    "Create a Python program that simulates a light switch using Boolean math. The program will toggle the state of a light (on or off) based on user input. Each time the user enters \"toggle\", the state of the light should switch from on to off, or from off to on."
   ]
  },
  {
   "cell_type": "code",
   "execution_count": null,
   "metadata": {},
   "outputs": [],
   "source": [
    "light_on = False\n"
   ]
  },
  {
   "cell_type": "markdown",
   "metadata": {},
   "source": [
    "<details>\n",
    "<summary>🔑 Click here for the solution</summary>\n",
    "\n",
    "```py\n",
    "# Step 1: Initialize the light's state\n",
    "light_on = False\n",
    "\n",
    "while True:\n",
    "    # Step 2: Prompt the user for input\n",
    "    user_input = input(\"Type 'toggle' to flip the light switch or 'exit' to quit: \").strip().lower()\n",
    "    \n",
    "    if user_input == 'toggle':\n",
    "        # Step 3: Toggle the light's state using Boolean math\n",
    "        light_on = not light_on\n",
    "        # Step 4: Print the current state of the light\n",
    "        print(\"The light is now\", \"on\" if light_on else \"off\")\n",
    "    elif user_input == 'exit':\n",
    "        break\n",
    "    else:\n",
    "        print(\"Invalid input, please type 'toggle' or 'exit'\")\n",
    "```\n",
    "\n",
    "</details>"
   ]
  }
 ],
 "metadata": {
  "language_info": {
   "name": "python"
  }
 },
 "nbformat": 4,
 "nbformat_minor": 2
}
