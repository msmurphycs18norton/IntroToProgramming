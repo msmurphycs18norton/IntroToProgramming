{
 "cells": [
  {
   "cell_type": "markdown",
   "metadata": {},
   "source": [
    "# 🔄 Looping Over Sequences in Python"
   ]
  },
  {
   "cell_type": "markdown",
   "metadata": {},
   "source": [
    "## 📏 Looping Over `range()`\n",
    "\n",
    "`range()` generates a sequence of numbers. There are different ways to use `range()`: `range(stop)`, `range(start, stop)`, `range(start, stop, step)`."
   ]
  },
  {
   "cell_type": "code",
   "execution_count": null,
   "metadata": {},
   "outputs": [],
   "source": [
    "for i in range(1, 6):\n",
    "    print(i)"
   ]
  },
  {
   "cell_type": "code",
   "execution_count": null,
   "metadata": {},
   "outputs": [],
   "source": [
    "for i in range(1, 10, 2):\n",
    "    print(i)"
   ]
  },
  {
   "cell_type": "markdown",
   "metadata": {},
   "source": [
    "- `range(stop)` starts from 0.\n",
    "- `range(start, stop)` starts from start.\n",
    "- `range(start, stop, step)` allows custom steps.\n",
    "- First example prints 1 to 5.\n",
    "- Second example prints 1, 3, 5, 7, 9.\n",
    "\n",
    "### Try it out\n",
    "\n",
    "Modify the code to print even numbers from 2 to 12."
   ]
  },
  {
   "cell_type": "code",
   "execution_count": null,
   "metadata": {},
   "outputs": [],
   "source": [
    "for i in range(2, 13):\n",
    "    print(i)"
   ]
  },
  {
   "cell_type": "markdown",
   "metadata": {},
   "source": [
    "## 🔡 Looping Over Strings\n",
    "\n",
    "Overview:\n",
    "Strings are sequences of characters. You can loop through each character in a string."
   ]
  },
  {
   "cell_type": "code",
   "execution_count": null,
   "metadata": {},
   "outputs": [],
   "source": [
    "for char in \"hello\":\n",
    "    print(char)"
   ]
  },
  {
   "cell_type": "code",
   "execution_count": null,
   "metadata": {},
   "outputs": [],
   "source": [
    "word = \"world\"\n",
    "for char in word:\n",
    "    print(char)"
   ]
  },
  {
   "cell_type": "markdown",
   "metadata": {},
   "source": [
    "- Each character in \"hello\" is printed one by one.\n",
    "- The same can be done for any string stored in a variable.\n",
    "\n",
    "### Try it out\n",
    "\n",
    "Modify the code to iterate through the string \"Python\" and print each character."
   ]
  },
  {
   "cell_type": "code",
   "execution_count": null,
   "metadata": {},
   "outputs": [],
   "source": [
    "for char in \"P\":\n",
    "    print(char)"
   ]
  },
  {
   "cell_type": "markdown",
   "metadata": {},
   "source": [
    "## 📋 Looping Over Lists\n",
    "\n",
    "Lists are ordered collections of items. You can loop through each item in a list."
   ]
  },
  {
   "cell_type": "code",
   "execution_count": null,
   "metadata": {},
   "outputs": [],
   "source": [
    "fruits = [\"apple\", \"banana\", \"cherry\"]\n",
    "for fruit in fruits:\n",
    "    print(fruit)"
   ]
  },
  {
   "cell_type": "code",
   "execution_count": null,
   "metadata": {},
   "outputs": [],
   "source": [
    "colors = [\"red\", \"green\", \"blue\"]\n",
    "for color in colors:\n",
    "    print(color)"
   ]
  },
  {
   "cell_type": "markdown",
   "metadata": {},
   "source": [
    "- A list is an ordered collection.\n",
    "- Each fruit in the list is printed.\n",
    "\n",
    "### Try it out\n",
    "\n",
    "Create a list of your favorite animals and print each animal using a for loop."
   ]
  },
  {
   "cell_type": "code",
   "execution_count": null,
   "metadata": {},
   "outputs": [],
   "source": [
    "animals = []\n",
    "for animal in animals:\n",
    "    print(animal)"
   ]
  },
  {
   "cell_type": "markdown",
   "metadata": {},
   "source": [
    "## 🧩 Create a Simple Survey\n",
    "\n",
    "Create a program that asks the user for their favorite fruits and stores them in a list. After collecting the fruits, loop through the list and print each fruit.\n"
   ]
  },
  {
   "cell_type": "code",
   "execution_count": null,
   "metadata": {},
   "outputs": [],
   "source": [
    "favorite_fruits = []\n",
    "\n",
    "for i in range(3):\n",
    "    fruit = input(\"Enter your favorite fruit: \")\n",
    "    favorite_fruits.append(fruit) # Adds fruit to the list\n"
   ]
  },
  {
   "cell_type": "markdown",
   "metadata": {},
   "source": [
    "<details>\n",
    "<summary>🔑 Click here for the solution</summary>\n",
    "\n",
    "```py\n",
    "favorite_fruits = []\n",
    "\n",
    "for i in range(3):\n",
    "    fruit = input(\"Enter your favorite fruit: \")\n",
    "    favorite_fruits.append(fruit)\n",
    "\n",
    "print(\"Your favorite fruits are:\")\n",
    "for fruit in favorite_fruits:\n",
    "    print(fruit)\n",
    "```\n",
    "\n",
    "</details>"
   ]
  }
 ],
 "metadata": {
  "language_info": {
   "name": "python"
  }
 },
 "nbformat": 4,
 "nbformat_minor": 2
}
