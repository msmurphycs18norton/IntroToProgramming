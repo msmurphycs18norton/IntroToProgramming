{
 "cells": [
  {
   "cell_type": "markdown",
   "metadata": {},
   "source": [
    "\n",
    "# 🌀 Understanding While Loops in Python\n"
   ]
  },
  {
   "cell_type": "markdown",
   "metadata": {},
   "source": [
    "## 🤔 What is a While Loop?\n",
    "\n",
    "A while loop repeats a block of code as long as a condition is true. It's great for when you don't know in advance how many times you need to repeat an action."
   ]
  },
  {
   "cell_type": "code",
   "execution_count": null,
   "metadata": {},
   "outputs": [],
   "source": [
    "i = 1\n",
    "while i <= 5:\n",
    "    print(i)\n",
    "    i += 1"
   ]
  },
  {
   "cell_type": "markdown",
   "metadata": {},
   "source": [
    "- The loop starts with `i` equal to 1.\n",
    "- Each iteration checks if `i` is less than or equal to 5.\n",
    "- `i` is incremented by 1 each time.\n",
    "- The loop stops when `i` becomes 6.\n",
    "\n",
    "### Try it out\n",
    "\n",
    "Modify the code to print numbers from 1 to 10."
   ]
  },
  {
   "cell_type": "code",
   "execution_count": null,
   "metadata": {},
   "outputs": [],
   "source": [
    "i = 0\n",
    "while i <= 10:\n",
    "    print(i)\n",
    "    i += 1"
   ]
  },
  {
   "cell_type": "markdown",
   "metadata": {},
   "source": [
    "## 🧩 Understanding Syntax\n",
    "\n",
    "While loop syntax: `while condition: # code block`. The code block inside the loop runs repeatedly as long as the condition is true.\n",
    "```python\n",
    "while condition:\n",
    "    # code block\n",
    "```\n",
    "Example:"
   ]
  },
  {
   "cell_type": "code",
   "execution_count": null,
   "metadata": {},
   "outputs": [],
   "source": [
    "count = 0\n",
    "while count < 3:\n",
    "    print(\"Hello!\")\n",
    "    count += 1"
   ]
  },
  {
   "cell_type": "markdown",
   "metadata": {},
   "source": [
    "- The condition is checked before each iteration.\n",
    "- The loop prints \"Hello!\" three times.\n",
    "\n",
    "### Try it out\n",
    "\n",
    "Modify the code to print \"Hi!\" five times.\n"
   ]
  },
  {
   "cell_type": "code",
   "execution_count": null,
   "metadata": {},
   "outputs": [],
   "source": [
    "count = 0\n",
    "while count <= 5:\n",
    "    print(\"Hi!\")\n",
    "    count += 1"
   ]
  },
  {
   "cell_type": "markdown",
   "metadata": {},
   "source": [
    "## 🔄 While vs. If\n",
    "\n",
    "A while loop is like an if statement that keeps checking the condition until it's false. An if statement runs once if the condition is true, while a while loop keeps running."
   ]
  },
  {
   "cell_type": "code",
   "execution_count": null,
   "metadata": {},
   "outputs": [],
   "source": [
    "i = 1\n",
    "while i <= 5:\n",
    "    print(i)\n",
    "    i += 1\n",
    "\n",
    "if i <= 5:\n",
    "    print(i)"
   ]
  },
  {
   "cell_type": "markdown",
   "metadata": {},
   "source": [
    "\n",
    "\n",
    "- The if statement checks the condition once.\n",
    "- The while loop continues checking and executing until the condition is false.\n",
    "\n",
    "### Try it out\n",
    "\n",
    "Modify the code to use an if statement to print a message if `i` is less than 10.\n"
   ]
  },
  {
   "cell_type": "code",
   "execution_count": null,
   "metadata": {},
   "outputs": [],
   "source": [
    "i = 1\n",
    "if i == 10:\n",
    "    print(\"i is less than 10\")"
   ]
  },
  {
   "cell_type": "markdown",
   "metadata": {},
   "source": [
    "## 🧩 Create a Simple Guessing Game\n",
    "\n",
    "Create a simple number guessing game using while loops where the user has to\n",
    "guess a predefined secret number (e.g., 7). The game should ask the user to\n",
    "guess the number until they get it right and give feedback if the guess is too high or too low. "
   ]
  },
  {
   "cell_type": "code",
   "execution_count": null,
   "metadata": {},
   "outputs": [],
   "source": [
    "secret_number = 7\n"
   ]
  },
  {
   "cell_type": "markdown",
   "metadata": {},
   "source": [
    "<details>\n",
    "<summary>🔑 Click here for the solution</summary>\n",
    "\n",
    "```py\n",
    "secret_number = 7\n",
    "\n",
    "while guess != secret_number:\n",
    "    guess = int(input(\"Guess the number (between 1 and 100): \"))\n",
    "    if guess < secret_number:\n",
    "        print(\"Too low!\")\n",
    "    elif guess > secret_number:\n",
    "        print(\"Too high!\")\n",
    "\n",
    "print(\"Congratulations! You guessed the correct number.\")\n",
    "```\n",
    "\n",
    "</details>"
   ]
  }
 ],
 "metadata": {
  "language_info": {
   "name": "python"
  }
 },
 "nbformat": 4,
 "nbformat_minor": 2
}
