{
 "cells": [
  {
   "cell_type": "markdown",
   "metadata": {},
   "source": [
    "# 🚦 Circuit Breakers in Loops"
   ]
  },
  {
   "cell_type": "markdown",
   "metadata": {},
   "source": [
    "## 🛑 Using `break` in Loops\n",
    "\n",
    "The `break` statement exits the loop immediately. It is useful for stopping a loop when a certain condition is met."
   ]
  },
  {
   "cell_type": "code",
   "execution_count": null,
   "metadata": {},
   "outputs": [],
   "source": [
    "for i in range(5):\n",
    "    if i == 3:\n",
    "        break\n",
    "    print(i)"
   ]
  },
  {
   "cell_type": "markdown",
   "metadata": {},
   "source": [
    "- The loop stops when `i` equals 3.\n",
    "- Only numbers 0, 1, 2 are printed.\n",
    "\n",
    "### Try it out\n",
    "\n",
    "Modify the code to stop the loop when `i` equals 4."
   ]
  },
  {
   "cell_type": "code",
   "execution_count": null,
   "metadata": {},
   "outputs": [],
   "source": [
    "for i in range(5):\n",
    "    \n",
    "    print(i)"
   ]
  },
  {
   "cell_type": "markdown",
   "metadata": {},
   "source": [
    "## ↪️ Using `continue` in Loops\n",
    "\n",
    "The `continue` statement skips the rest of the code in the current iteration and moves to the next iteration of the loop."
   ]
  },
  {
   "cell_type": "code",
   "execution_count": null,
   "metadata": {},
   "outputs": [],
   "source": [
    "for i in range(5):\n",
    "    if i == 3:\n",
    "        continue\n",
    "    print(i)"
   ]
  },
  {
   "cell_type": "markdown",
   "metadata": {},
   "source": [
    "- When `i` equals 3, the loop skips to the next iteration.\n",
    "- The numbers 0, 1, 2, 4 are printed, but not 3.\n",
    "\n",
    "### Try it out\n",
    "\n",
    "Modify the code to skip printing when `i` equals 2."
   ]
  },
  {
   "cell_type": "code",
   "execution_count": null,
   "metadata": {},
   "outputs": [],
   "source": [
    "for i in range(5):\n",
    "    \n",
    "    print(i)"
   ]
  },
  {
   "cell_type": "markdown",
   "metadata": {},
   "source": [
    "## ⚙️ Combining `break` and `continue`\n",
    "\n",
    "You can use both `break` and `continue` in the same loop for complex control flow."
   ]
  },
  {
   "cell_type": "code",
   "execution_count": null,
   "metadata": {},
   "outputs": [],
   "source": [
    "for i in range(10):\n",
    "    if i == 3:\n",
    "        continue\n",
    "    if i == 7:\n",
    "        break\n",
    "    print(i)"
   ]
  },
  {
   "cell_type": "markdown",
   "metadata": {},
   "source": [
    "- The loop skips printing 3 and stops completely when `i` equals 7.\n",
    "- The numbers 0, 1, 2, 4, 5, 6 are printed.\n",
    "\n",
    "### Try it out\n",
    "\n",
    "Modify the code to skip printing when `i` equals 2 and stop the loop when `i` equals 5."
   ]
  },
  {
   "cell_type": "code",
   "execution_count": null,
   "metadata": {},
   "outputs": [],
   "source": [
    "for i in range(10):\n",
    "    \n",
    "    print(i)"
   ]
  },
  {
   "cell_type": "markdown",
   "metadata": {},
   "source": [
    "## 🧩 Search for a Value\n",
    "\n",
    "Use `break` to stop searching a list once the target value is found. Use `continue` to skip invalid or unwanted values."
   ]
  },
  {
   "cell_type": "code",
   "execution_count": null,
   "metadata": {},
   "outputs": [],
   "source": [
    "numbers = [1, 2, 3, -1, 4, 5]\n",
    "for num in numbers:\n",
    "    if num < 0:\n",
    "        continue\n",
    "    if num == 4:\n",
    "        print(\"Found 4!\")\n",
    "        break\n",
    "    print(num)"
   ]
  },
  {
   "cell_type": "markdown",
   "metadata": {},
   "source": [
    "- The loop skips the negative number.\n",
    "- Stops once the number 4 is found and prints \"Found 4!\".\n",
    "\n",
    "### Try it out\n",
    "\n",
    "Modify the code to search for the number 5 instead of 4 and skip any number less than 2."
   ]
  },
  {
   "cell_type": "code",
   "execution_count": null,
   "metadata": {},
   "outputs": [],
   "source": [
    "numbers = [1, 2, 3, -1, 4, 5]\n",
    "for num in numbers:\n",
    "    \n",
    "    print(num)"
   ]
  },
  {
   "cell_type": "markdown",
   "metadata": {},
   "source": [
    "## 🧩 Guess the Predefined Number Game\n",
    "\n",
    "Create a number guessing game where the user has to guess a predefined secret number (e.g., 7). The game will give feedback if the guess is too high or too low. Use break to stop the game once the correct number is guessed."
   ]
  },
  {
   "cell_type": "code",
   "execution_count": null,
   "metadata": {},
   "outputs": [],
   "source": [
    "secret_number = 7\n",
    "\n"
   ]
  },
  {
   "cell_type": "markdown",
   "metadata": {},
   "source": [
    "<details>\n",
    "<summary>🔑 Click here for the solution</summary>\n",
    "\n",
    "```py\n",
    "secret_number = 7\n",
    "\n",
    "while True:\n",
    "    guess = int(input(\"Guess the number (between 1 and 10): \"))\n",
    "    if guess < secret_number:\n",
    "        print(\"Too low!\")\n",
    "    elif guess > secret_number:\n",
    "        print(\"Too high!\")\n",
    "    else:\n",
    "        print(\"Congratulations! You guessed the correct number.\")\n",
    "        break\n",
    "```\n",
    "\n",
    "</details>"
   ]
  }
 ],
 "metadata": {
  "language_info": {
   "name": "python"
  }
 },
 "nbformat": 4,
 "nbformat_minor": 2
}
