{
 "cells": [
  {
   "cell_type": "markdown",
   "metadata": {},
   "source": [
    "# 🔄 REPL (Read-Evaluate-Print Loop) in Python"
   ]
  },
  {
   "cell_type": "markdown",
   "metadata": {},
   "source": [
    "## 🌀 What is a REPL?\n",
    "\n",
    "REPL stands for Read-Evaluate-Print Loop. It continuously reads user input, evaluates it, and prints the result. This is useful for creating interactive programs."
   ]
  },
  {
   "cell_type": "code",
   "execution_count": null,
   "metadata": {},
   "outputs": [],
   "source": [
    "while True:\n",
    "    command = input(\"Enter command: \")\n",
    "    if command == \"exit\":\n",
    "        break\n",
    "    print(f\"Executing {command}\")"
   ]
  },
  {
   "cell_type": "markdown",
   "metadata": {},
   "source": [
    "- A simple example that reads commands and prints them.\n",
    "\n",
    "### Try it out\n",
    "\n",
    "Modify the code to print \"Command received: \" before each command."
   ]
  },
  {
   "cell_type": "code",
   "execution_count": null,
   "metadata": {},
   "outputs": [],
   "source": [
    "while True:\n",
    "    command = input(\"Enter command: \")\n",
    "    if command == \"exit\":\n",
    "        break\n",
    "    print(f\"Executing {command}\")"
   ]
  },
  {
   "cell_type": "markdown",
   "metadata": {},
   "source": [
    "## 📜 REPL Structure\n",
    "\n",
    "The structure of a REPL includes:\n",
    "  1. **Read**: Get user input.\n",
    "  2. **Evaluate**: Process the input.\n",
    "  3. **Print**: Display the result.\n",
    "  4. **Loop**: Repeat until a termination condition is met."
   ]
  },
  {
   "cell_type": "code",
   "execution_count": null,
   "metadata": {},
   "outputs": [],
   "source": [
    "while True:\n",
    "    command = input(\"Enter command: \")\n",
    "    if command == \"exit\":\n",
    "        print(\"Goodbye!\")\n",
    "        break\n",
    "    print(f\"Executing {command}\")"
   ]
  },
  {
   "cell_type": "markdown",
   "metadata": {},
   "source": [
    "### Try it out\n",
    "\n",
    "Modify the code to print \"Command received: \" before each command."
   ]
  },
  {
   "cell_type": "code",
   "execution_count": null,
   "metadata": {},
   "outputs": [],
   "source": [
    "\n",
    "while True:\n",
    "    command = input(\"Enter command: \")\n",
    "    if command == \"exit\":\n",
    "        print(\"Goodbye!\")\n",
    "        break\n",
    "    print(f\"Executing {command}\")"
   ]
  },
  {
   "cell_type": "markdown",
   "metadata": {},
   "source": [
    "## 🚦 Using `break` in a REPL\n",
    "\n",
    "`break` is used to exit the loop and stop the REPL."
   ]
  },
  {
   "cell_type": "code",
   "execution_count": null,
   "metadata": {},
   "outputs": [],
   "source": [
    "while True:\n",
    "    command = input(\"Enter command: \")\n",
    "    if command == \"exit\":\n",
    "        print(\"Goodbye!\")\n",
    "        break\n",
    "    print(f\"Executing {command}\")"
   ]
  },
  {
   "cell_type": "markdown",
   "metadata": {},
   "source": [
    "- Typing \"exit\" will break the loop and end the REPL.\n",
    "\n",
    "### Try it out\n",
    "\n",
    "Modify the code to include a goodbye message before breaking the loop."
   ]
  },
  {
   "cell_type": "code",
   "execution_count": null,
   "metadata": {},
   "outputs": [],
   "source": [
    "while True:\n",
    "    command = input(\"Enter command: \")\n",
    "    if command == \"exit\":\n",
    "        \n",
    "        break\n",
    "    print(f\"Executing {command}\")"
   ]
  },
  {
   "cell_type": "markdown",
   "metadata": {},
   "source": [
    "## 🧩 Adding Functionality\n",
    "\n",
    "You can add more commands to your REPL for different functionalities."
   ]
  },
  {
   "cell_type": "code",
   "execution_count": null,
   "metadata": {},
   "outputs": [],
   "source": [
    "while True:\n",
    "    command = input(\"Enter command: \")\n",
    "    if command == \"exit\":\n",
    "        print(\"Goodbye!\")\n",
    "        break\n",
    "    elif command == \"hello\":\n",
    "        print(\"Hello, user!\")\n",
    "    else:\n",
    "        print(f\"Unknown command: {command}\")"
   ]
  },
  {
   "cell_type": "markdown",
   "metadata": {},
   "source": [
    "### Try it out\n",
    "\n",
    "Modify the code to include an additional command \"goodbye\" that prints \"Goodbye, user!\""
   ]
  },
  {
   "cell_type": "code",
   "execution_count": null,
   "metadata": {},
   "outputs": [],
   "source": [
    "while True:\n",
    "    command = input(\"Enter command: \")\n",
    "    if command == \"exit\":\n",
    "        print(\"Goodbye!\")\n",
    "        break\n",
    "    elif command == \"hello\":\n",
    "        print(\"Hello, user!\")\n",
    "    else:\n",
    "        print(f\"Unknown command: {command}\")"
   ]
  },
  {
   "cell_type": "markdown",
   "metadata": {},
   "source": [
    "## 🔧 Example: Simple Calculator REPL\n",
    "\n",
    "Create a simple calculator that can add, subtract, multiply, and divide."
   ]
  },
  {
   "cell_type": "code",
   "execution_count": null,
   "metadata": {},
   "outputs": [],
   "source": [
    "while True:\n",
    "    command = input(\"Enter operation (add, sub, mul, div) or 'exit': \")\n",
    "    if command == \"exit\":\n",
    "        print(\"Goodbye!\")\n",
    "        break\n",
    "    elif command in (\"add\", \"sub\", \"mul\", \"div\"):\n",
    "        num1 = float(input(\"Enter first number: \"))\n",
    "        num2 = float(input(\"Enter second number: \"))\n",
    "        if command == \"add\":\n",
    "            print(f\"Result: {num1 + num2}\")\n",
    "        elif command == \"sub\":\n",
    "            print(f\"Result: {num1 - num2}\")\n",
    "        elif command == \"mul\":\n",
    "            print(f\"Result: {num1 * num2}\")\n",
    "        elif command == \"div\":\n",
    "            print(f\"Result: {num1 / num2}\")\n",
    "    else:\n",
    "        print(f\"Unknown command: {command}\")"
   ]
  }
 ],
 "metadata": {
  "language_info": {
   "name": "python"
  }
 },
 "nbformat": 4,
 "nbformat_minor": 2
}
