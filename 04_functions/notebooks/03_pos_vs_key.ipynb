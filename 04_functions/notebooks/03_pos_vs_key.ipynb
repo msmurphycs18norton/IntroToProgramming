{
 "cells": [
  {
   "cell_type": "markdown",
   "metadata": {},
   "source": [
    "# ⚙️ Positional vs Keyword Arguments"
   ]
  },
  {
   "cell_type": "markdown",
   "metadata": {},
   "source": [
    "## 📌 Positional Arguments\n",
    "\n",
    "### Overview\n",
    "- **Definition:** Arguments matched to parameters by their position.\n",
    "- **Order Matters:** Must be passed in the same order as parameters."
   ]
  },
  {
   "cell_type": "code",
   "execution_count": null,
   "metadata": {},
   "outputs": [],
   "source": [
    "def describe_pet(animal, name):\n",
    "    print(f\"I have a {animal} named {name}.\")\n",
    "\n",
    "describe_pet(\"dog\", \"Buddy\")  # Correct order"
   ]
  },
  {
   "cell_type": "markdown",
   "metadata": {},
   "source": [
    "### Try it out\n",
    "Define a function `introduce_person` that takes two positional arguments `first_name` and `last_name` and prints a greeting message."
   ]
  },
  {
   "cell_type": "code",
   "execution_count": null,
   "metadata": {},
   "outputs": [],
   "source": []
  },
  {
   "cell_type": "markdown",
   "metadata": {},
   "source": [
    "## 🗝️ Keyword Arguments\n",
    "\n",
    "### Overview\n",
    "- **Definition:** Arguments matched to parameters by their names.\n",
    "- **Flexibility:** Can be passed in any order."
   ]
  },
  {
   "cell_type": "code",
   "execution_count": null,
   "metadata": {},
   "outputs": [],
   "source": [
    "def describe_pet(animal, name):\n",
    "    print(f\"I have a {animal} named {name}.\")\n",
    "\n",
    "describe_pet(name=\"Buddy\", animal=\"dog\")  # Order doesn't matter"
   ]
  },
  {
   "cell_type": "markdown",
   "metadata": {},
   "source": [
    "### Try it out\n",
    "Define a function `introduce_person` that takes two keyword arguments `first_name` and `last_name` and prints a greeting message."
   ]
  },
  {
   "cell_type": "code",
   "execution_count": null,
   "metadata": {},
   "outputs": [],
   "source": []
  },
  {
   "cell_type": "markdown",
   "metadata": {},
   "source": [
    "## 🛠️ Combining Positional and Keyword Arguments\n",
    "\n",
    "### Overview\n",
    "- **Rule:** Positional arguments must come before keyword arguments."
   ]
  },
  {
   "cell_type": "code",
   "execution_count": null,
   "metadata": {},
   "outputs": [],
   "source": [
    "def describe_pet(animal, name):\n",
    "    print(f\"I have a {animal} named {name}.\")\n",
    "\n",
    "describe_pet(\"dog\", name=\"Buddy\")  # Valid"
   ]
  },
  {
   "cell_type": "markdown",
   "metadata": {},
   "source": [
    "### Try it out\n",
    "Define a function `introduce_person` that takes one positional argument `first_name` and one keyword argument `last_name` and prints a greeting message."
   ]
  },
  {
   "cell_type": "code",
   "execution_count": null,
   "metadata": {},
   "outputs": [],
   "source": []
  },
  {
   "cell_type": "markdown",
   "metadata": {},
   "source": [
    "## 🔄 Converting Positional to Keyword Arguments\n",
    "\n",
    "### Overview\n",
    "- **All Positional Can Be Keyword:** Positional arguments can also be used as keyword arguments."
   ]
  },
  {
   "cell_type": "code",
   "execution_count": null,
   "metadata": {},
   "outputs": [],
   "source": [
    "def describe_pet(animal, name):\n",
    "    print(f\"I have a {animal} named {name}.\")\n",
    "\n",
    "describe_pet(animal=\"dog\", name=\"Buddy\")  # Using keyword arguments"
   ]
  },
  {
   "cell_type": "markdown",
   "metadata": {},
   "source": [
    "### Try it out\n",
    "Define a function `introduce_person` that takes two positional arguments and call it using keyword arguments."
   ]
  },
  {
   "cell_type": "code",
   "execution_count": null,
   "metadata": {},
   "outputs": [],
   "source": []
  },
  {
   "cell_type": "markdown",
   "metadata": {},
   "source": [
    "## 🧩 Final Activity: Positional and Keyword Arguments\n",
    "\n",
    "### Task\n",
    "Create a function that calculates the total price of an order. The function should take the following arguments:\n",
    "- `price` (positional argument): The base price of the item.\n",
    "- `quantity` (positional argument): The number of items ordered.\n",
    "- `discount` (keyword argument with a default value of 0): The discount percentage to be applied.\n",
    "- `tax_rate` (keyword argument with a default value of 0.05): The tax rate to be applied.\n",
    "\n",
    "The function should return the final price after applying the discount and tax.\n",
    "\n",
    "### Instructions\n",
    "1. Define the function `calculate_total`.\n",
    "2. Use the provided arguments to calculate the final price.\n",
    "3. Return the final price."
   ]
  },
  {
   "cell_type": "code",
   "execution_count": null,
   "metadata": {},
   "outputs": [],
   "source": []
  },
  {
   "cell_type": "markdown",
   "metadata": {},
   "source": [
    "<details>\n",
    "<summary>🔑 Click here for the solution</summary>\n",
    "\n",
    "```py\n",
    "def calculate_total(price, quantity, discount=0, tax_rate=0.05):\n",
    "    \"\"\"\n",
    "    Calculates the total price of an order after applying discount and tax.\n",
    "    \n",
    "    Parameters:\n",
    "    price (float): The base price of the item.\n",
    "    quantity (int): The number of items ordered.\n",
    "    discount (float): The discount percentage to be applied. Default is 0.\n",
    "    tax_rate (float): The tax rate to be applied. Default is 0.05.\n",
    "    \n",
    "    Returns:\n",
    "    float: The final price after applying discount and tax.\n",
    "    \"\"\"\n",
    "    subtotal = price * quantity\n",
    "    total_discount = subtotal * (discount / 100)\n",
    "    subtotal_after_discount = subtotal - total_discount\n",
    "    total_tax = subtotal_after_discount * tax_rate\n",
    "    final_price = subtotal_after_discount + total_tax\n",
    "    return final_price\n",
    "\n",
    "# Test the function\n",
    "print(calculate_total(100, 2))  # Expected output: 210.0\n",
    "print(calculate_total(100, 2, discount=10))  # Expected output: 189.0\n",
    "print(calculate_total(100, 2, tax_rate=0.1))  # Expected output: 220.0\n",
    "print(calculate_total(100, 2, discount=10, tax_rate=0.1))  # Expected output: 198.0\n",
    "```\n",
    "\n",
    "</details>"
   ]
  }
 ],
 "metadata": {
  "language_info": {
   "name": "python"
  }
 },
 "nbformat": 4,
 "nbformat_minor": 2
}
