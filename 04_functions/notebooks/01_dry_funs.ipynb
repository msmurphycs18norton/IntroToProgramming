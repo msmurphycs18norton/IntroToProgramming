{
 "cells": [
  {
   "cell_type": "markdown",
   "metadata": {},
   "source": [
    "# 🖥️ Introduction to DRY Programming\n",
    "\n",
    "## 🛠️ DRY - Don't Repeat Yourself"
   ]
  },
  {
   "cell_type": "markdown",
   "metadata": {},
   "source": [
    "### Overview\n",
    "- **DRY Principle:** Avoid repeating code.\n",
    "- **Importance:** Makes code easier to read, maintain, and debug."
   ]
  },
  {
   "cell_type": "code",
   "execution_count": null,
   "metadata": {},
   "outputs": [],
   "source": [
    "# Without DRY\n",
    "print(\"Hello, Alice!\")\n",
    "print(\"Hello, Bob!\")\n",
    "\n",
    "# With DRY\n",
    "def greet(name):\n",
    "    print(f\"Hello, {name}!\")\n",
    "\n",
    "greet(\"Alice\")\n",
    "greet(\"Bob\")"
   ]
  },
  {
   "cell_type": "markdown",
   "metadata": {},
   "source": [
    "## 🔍 What is a Function?\n",
    "\n",
    "### Overview\n",
    "- **Function:** A reusable block of code that performs a specific task.\n",
    "- **Purpose:** Simplifies complex programs by breaking them into smaller, manageable pieces."
   ]
  },
  {
   "cell_type": "code",
   "execution_count": null,
   "metadata": {},
   "outputs": [],
   "source": [
    "# Example of a simple function\n",
    "def say_hello():\n",
    "    print(\"Hello, World!\")\n",
    "\n",
    "say_hello()"
   ]
  },
  {
   "cell_type": "markdown",
   "metadata": {},
   "source": [
    "### Try it out\n",
    "Create a function that prints \"Goodbye, World!\" and call it."
   ]
  },
  {
   "cell_type": "code",
   "execution_count": null,
   "metadata": {},
   "outputs": [],
   "source": []
  },
  {
   "cell_type": "markdown",
   "metadata": {},
   "source": [
    "## 📝 Basic Function\n",
    "\n",
    "### Overview\n",
    "- **Define Function:** Use `def` keyword.\n",
    "- **No Arguments, No Return Value:** Simple structure."
   ]
  },
  {
   "cell_type": "code",
   "execution_count": null,
   "metadata": {},
   "outputs": [],
   "source": [
    "def greet():\n",
    "    print(\"Hi there!\")\n",
    "\n",
    "greet()"
   ]
  },
  {
   "cell_type": "markdown",
   "metadata": {},
   "source": [
    "### Try it out\n",
    "Define a function that prints \"Welcome!\" and call it."
   ]
  },
  {
   "cell_type": "code",
   "execution_count": null,
   "metadata": {},
   "outputs": [],
   "source": []
  },
  {
   "cell_type": "markdown",
   "metadata": {},
   "source": [
    "## 🏃‍♂️ Calling Functions\n",
    "\n",
    "### Overview\n",
    "- **Call Function:** Use function name followed by parentheses.\n",
    "- **Example:** Execute a simple function."
   ]
  },
  {
   "cell_type": "code",
   "execution_count": null,
   "metadata": {},
   "outputs": [],
   "source": [
    "def greet():\n",
    "    print(\"Hello, everyone!\")\n",
    "\n",
    "greet()  # Calling the function"
   ]
  },
  {
   "cell_type": "markdown",
   "metadata": {},
   "source": [
    "### Try it out\n",
    "Define a function that prints \"Let's learn Python!\" and call it."
   ]
  },
  {
   "cell_type": "code",
   "execution_count": null,
   "metadata": {},
   "outputs": [],
   "source": []
  },
  {
   "cell_type": "markdown",
   "metadata": {},
   "source": [
    "## 🧩 Create a Simple Greeting Application\n",
    "\n",
    "### Task\n",
    "Combine everything learned to create an interactive greeting application.\n",
    "\n",
    "### Instructions\n",
    "\n",
    "1. **Define a Function:** Create a function `personalized_greet` that takes two parameters: `name` and `greeting`.\n",
    "2. **Default Values:** Set a default value for `greeting` as \"Hello\".\n",
    "3. **Print Message:** The function should print a personalized greeting message using the provided `name` and `greeting`.\n",
    "4. **Call Function:** Prompt the user to enter their name and a greeting message, then call the function with these inputs."
   ]
  },
  {
   "cell_type": "code",
   "execution_count": null,
   "metadata": {},
   "outputs": [],
   "source": []
  },
  {
   "cell_type": "markdown",
   "metadata": {},
   "source": [
    "<details>\n",
    "<summary>🔑 Click here for the solution</summary>\n",
    "\n",
    "```py\n",
    "def personalized_greet(name: str, greeting: str = \"Hello\"):\n",
    "    \"\"\"\n",
    "    Prints a personalized greeting message.\n",
    "    \n",
    "    Parameters:\n",
    "    name (str): The name of the person to greet.\n",
    "    greeting (str): The greeting message. Default is \"Hello\".\n",
    "    \"\"\"\n",
    "    print(f\"{greeting}, {name}!\")\n",
    "\n",
    "# Prompt the user for their name and a greeting message\n",
    "user_name = input(\"Enter your name: \")\n",
    "user_greeting = input(\"Enter a greeting message (or press Enter to use the default): \")\n",
    "\n",
    "# Call the function with user inputs\n",
    "if user_greeting:\n",
    "    personalized_greet(user_name, user_greeting)\n",
    "else:\n",
    "    personalized_greet(user_name)\n",
    "```\n",
    "</details>"
   ]
  }
 ],
 "metadata": {
  "language_info": {
   "name": "python"
  }
 },
 "nbformat": 4,
 "nbformat_minor": 2
}
