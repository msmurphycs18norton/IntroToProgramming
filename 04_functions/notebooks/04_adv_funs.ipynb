{
 "cells": [
  {
   "cell_type": "markdown",
   "metadata": {},
   "source": [
    "# 🛠️ Advanced Function Features"
   ]
  },
  {
   "cell_type": "markdown",
   "metadata": {},
   "source": [
    "## 📜 Default Values for Arguments\n",
    "\n",
    "### Overview\n",
    "- **Default Values:** Specify default values for parameters.\n",
    "- **Purpose:** Allows functions to be called with fewer arguments."
   ]
  },
  {
   "cell_type": "code",
   "execution_count": null,
   "metadata": {},
   "outputs": [],
   "source": [
    "def greet(name=\"stranger\"):\n",
    "    print(f\"Hello, {name}!\")\n",
    "\n",
    "greet()          # Uses default value\n",
    "greet(\"Alice\")   # Overrides default value"
   ]
  },
  {
   "cell_type": "markdown",
   "metadata": {},
   "source": [
    "### Try it out\n",
    "Define a function `welcome` that takes a parameter `name` with a default value \"Guest\" and prints a welcome message."
   ]
  },
  {
   "cell_type": "code",
   "execution_count": null,
   "metadata": {},
   "outputs": [],
   "source": []
  },
  {
   "cell_type": "markdown",
   "metadata": {},
   "source": [
    "## 🔠 Type Hinting\n",
    "\n",
    "### Overview\n",
    "- **Type Hinting:** Specify expected types of arguments and return values.\n",
    "- **Purpose:** Enhances code readability and helps catch errors early."
   ]
  },
  {
   "cell_type": "code",
   "execution_count": null,
   "metadata": {},
   "outputs": [],
   "source": [
    "def add(a: int, b: int) -> int:\n",
    "    return a + b\n",
    "\n",
    "result = add(3, 5)\n",
    "print(result)  # Outputs: 8"
   ]
  },
  {
   "cell_type": "markdown",
   "metadata": {},
   "source": [
    "### Try it out\n",
    "Define a function `multiply` that takes two integers and returns their product, using type hinting."
   ]
  },
  {
   "cell_type": "code",
   "execution_count": null,
   "metadata": {},
   "outputs": [],
   "source": []
  },
  {
   "cell_type": "markdown",
   "metadata": {},
   "source": [
    "## 📝 Documenting Your Functions\n",
    "\n",
    "### Overview\n",
    "- **Docstrings:** Write clear descriptions of what the function does.\n",
    "- **Purpose:** Helps others understand the function's purpose and usage."
   ]
  },
  {
   "cell_type": "code",
   "execution_count": null,
   "metadata": {},
   "outputs": [],
   "source": [
    "def add(a: int, b: int) -> int:\n",
    "    \"\"\"\n",
    "    Adds two numbers and returns the result.\n",
    "    \n",
    "    Parameters:\n",
    "    a (int): The first number.\n",
    "    b (int): The second number.\n",
    "    \n",
    "    Returns:\n",
    "    int: The sum of a and b.\n",
    "    \"\"\"\n",
    "    return a + b"
   ]
  },
  {
   "cell_type": "markdown",
   "metadata": {},
   "source": [
    "### Try it out\n",
    "Define a function `subtract` that takes two integers, returns their difference, and includes a docstring."
   ]
  },
  {
   "cell_type": "code",
   "execution_count": null,
   "metadata": {},
   "outputs": [],
   "source": []
  },
  {
   "cell_type": "markdown",
   "metadata": {},
   "source": [
    "## Final Activity: Create a Function with Default Values, Type Hinting, and Documentation\n",
    "\n",
    "### Task\n",
    "Create a function `calculate_area` that calculates the area of a rectangle or a square. The function should take the following arguments:\n",
    "- `length` (mandatory positional argument): The length of the rectangle.\n",
    "- `width` (optional keyword argument with a default value equal to the length): The width of the rectangle. If not provided, the function should calculate the area of a square.\n",
    "- `unit` (optional keyword argument with a default value of \"cm²\"): The unit of measurement for the area.\n",
    "\n",
    "The function should return the area with a string indicating the unit of measurement.\n",
    "\n",
    "### Instructions\n",
    "1. Define the function `calculate_area` with default values for `width` and `unit`.\n",
    "2. Use type hinting to specify the expected types for all arguments and the return value.\n",
    "3. Add a docstring that describes the function, its parameters, and its return value.\n",
    "\n"
   ]
  },
  {
   "cell_type": "code",
   "execution_count": null,
   "metadata": {},
   "outputs": [],
   "source": []
  },
  {
   "cell_type": "markdown",
   "metadata": {},
   "source": [
    "<details>\n",
    "<summary>🔑 Click here for the solution</summary>\n",
    "\n",
    "```py\n",
    "def calculate_area(length: float, width: float = None, unit: str = \"cm²\") -> str:\n",
    "    \"\"\"\n",
    "    Calculates the area of a rectangle or a square.\n",
    "    \n",
    "    Parameters:\n",
    "    length (float): The length of the rectangle.\n",
    "    width (float, optional): The width of the rectangle. Defaults to the length, making it a square.\n",
    "    unit (str, optional): The unit of measurement for the area. Defaults to \"cm²\".\n",
    "    \n",
    "    Returns:\n",
    "    str: The area of the rectangle or square with the unit of measurement.\n",
    "    \"\"\"\n",
    "    if width is None:\n",
    "        width = length\n",
    "    area = length * width\n",
    "    return f\"{area} {unit}\"\n",
    "\n",
    "# Test the function\n",
    "print(calculate_area(5))  # Expected output: \"25.0 cm²\"\n",
    "print(calculate_area(5, 3))  # Expected output: \"15.0 cm²\"\n",
    "print(calculate_area(5, 3, \"m²\"))  # Expected output: \"15.0 m²\"\n",
    "print(calculate_area(7, unit=\"in²\"))  # Expected output: \"49.0 in²\"\n",
    "```\n",
    "</details>"
   ]
  }
 ],
 "metadata": {
  "language_info": {
   "name": "python"
  }
 },
 "nbformat": 4,
 "nbformat_minor": 2
}
