{
 "cells": [
  {
   "cell_type": "markdown",
   "metadata": {},
   "source": [
    "# 📚 Components of Functions"
   ]
  },
  {
   "cell_type": "markdown",
   "metadata": {},
   "source": [
    "## 🔖 Function Name\n",
    "\n",
    "### Overview\n",
    "- **Name:** The identifier used to call the function.\n",
    "- **Rules:** Must follow naming conventions (e.g., no spaces, can't start with a number)."
   ]
  },
  {
   "cell_type": "code",
   "execution_count": null,
   "metadata": {},
   "outputs": [],
   "source": [
    "def greet():\n",
    "    print(\"Hi there!\")"
   ]
  },
  {
   "cell_type": "markdown",
   "metadata": {},
   "source": [
    "### Try it out\n",
    "Define a function named `welcome` that prints \"Welcome to Python!\" and call it."
   ]
  },
  {
   "cell_type": "code",
   "execution_count": null,
   "metadata": {},
   "outputs": [],
   "source": []
  },
  {
   "cell_type": "markdown",
   "metadata": {},
   "source": [
    "## 📥 Parameters\n",
    "\n",
    "### Overview\n",
    "- **Parameters:** Variables listed inside the parentheses in the function definition.\n",
    "- **Purpose:** Allow functions to accept input values."
   ]
  },
  {
   "cell_type": "code",
   "execution_count": null,
   "metadata": {},
   "outputs": [],
   "source": [
    "def greet(name):\n",
    "    print(f\"Hello, {name}!\")"
   ]
  },
  {
   "cell_type": "markdown",
   "metadata": {},
   "source": [
    "### Try it out\n",
    "Define a function `personal_greet` that takes a parameter `name` and prints a personalized greeting."
   ]
  },
  {
   "cell_type": "code",
   "execution_count": null,
   "metadata": {},
   "outputs": [],
   "source": []
  },
  {
   "cell_type": "markdown",
   "metadata": {},
   "source": [
    "## 🔄 Function Body\n",
    "\n",
    "### Overview\n",
    "- **Body:** The block of code that performs the function's task.\n",
    "- **Indentation:** Must be indented to distinguish it from the rest of the code."
   ]
  },
  {
   "cell_type": "code",
   "execution_count": null,
   "metadata": {},
   "outputs": [],
   "source": [
    "def greet(name):\n",
    "    print(f\"Hello, {name}!\")"
   ]
  },
  {
   "cell_type": "markdown",
   "metadata": {},
   "source": [
    "### Try it out\n",
    "Define a function `announce` that takes a parameter `event` and prints a message announcing the event."
   ]
  },
  {
   "cell_type": "code",
   "execution_count": null,
   "metadata": {},
   "outputs": [],
   "source": []
  },
  {
   "cell_type": "markdown",
   "metadata": {},
   "source": [
    "## ⏭️ Return Statement\n",
    "\n",
    "### Overview\n",
    "- **Return Statement:** Sends a value back to the caller.\n",
    "- **Purpose:** Allows functions to produce an output."
   ]
  },
  {
   "cell_type": "code",
   "execution_count": null,
   "metadata": {},
   "outputs": [],
   "source": [
    "def add(a, b):\n",
    "    return a + b\n",
    "result = add(3, 5)\n",
    "print(result)  # Outputs: 8"
   ]
  },
  {
   "cell_type": "markdown",
   "metadata": {},
   "source": [
    "### Try it out\n",
    "Define a function `multiply` that takes two parameters, multiplies them, and returns the result."
   ]
  },
  {
   "cell_type": "code",
   "execution_count": null,
   "metadata": {},
   "outputs": [],
   "source": []
  },
  {
   "cell_type": "markdown",
   "metadata": {},
   "source": [
    "## 🛠️ Create a Simple Calculator\n",
    "Task\n",
    "Combine everything learned to create a simple calculator application that can perform addition, subtraction, multiplication, and division.\n",
    "\n",
    "Instructions\n",
    "Define Functions:\n",
    "\n",
    "Create functions for addition, subtraction, multiplication, and division. Each function should take two parameters and return the result.\n",
    "Ensure that the division function handles division by zero appropriately.\n",
    "Define a Main Function:\n",
    "\n",
    "Create a main function that:\n",
    "Prompts the user to choose an operation (add, subtract, multiply, divide).\n",
    "Prompts the user to enter two numbers.\n",
    "Calls the appropriate function based on the user's choice and prints the result."
   ]
  },
  {
   "cell_type": "markdown",
   "metadata": {},
   "source": [
    "<details>\n",
    "<summary>🔑 Click here for the solution</summary>\n",
    "\n",
    "```python\n",
    "def add(a: float, b: float) -> float:\n",
    "    return a + b\n",
    "\n",
    "def subtract(a: float, b: float) -> float:\n",
    "    return a - b\n",
    "\n",
    "def multiply(a: float, b: float) -> float:\n",
    "    return a * b\n",
    "\n",
    "def divide(a: float, b: float) -> float:\n",
    "    if b == 0:\n",
    "        return \"Error: Division by zero\"\n",
    "    return a / b\n",
    "\n",
    "def main():\n",
    "    \"\"\"\n",
    "    Simple calculator that performs basic arithmetic operations.\n",
    "    \"\"\"\n",
    "    print(\"Simple Calculator\")\n",
    "    print(\"Choose an operation: add, subtract, multiply, divide\")\n",
    "    operation = input(\"Enter operation: \").strip().lower()\n",
    "    \n",
    "    a = float(input(\"Enter the first number: \"))\n",
    "    b = float(input(\"Enter the second number: \"))\n",
    "    \n",
    "    if operation == \"add\":\n",
    "        result = add(a, b)\n",
    "    elif operation == \"subtract\":\n",
    "        result = subtract(a, b)\n",
    "    elif operation == \"multiply\":\n",
    "        result = multiply(a, b)\n",
    "    elif operation == \"divide\":\n",
    "        result = divide(a, b)\n",
    "    else:\n",
    "        result = \"Invalid operation\"\n",
    "    \n",
    "    print(f\"The result is: {result}\")\n",
    "\n",
    "# Run the main function\n",
    "main()\n",
    "```\n",
    "</details>"
   ]
  }
 ],
 "metadata": {
  "language_info": {
   "name": "python"
  }
 },
 "nbformat": 4,
 "nbformat_minor": 2
}
