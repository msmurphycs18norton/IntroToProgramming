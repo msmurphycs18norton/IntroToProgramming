{
 "cells": [
  {
   "cell_type": "markdown",
   "metadata": {},
   "source": [
    "# User Input 📝\n",
    "\n",
    "## 📚 What will we learn?\n",
    "\n",
    "- How to accept user input\n",
    "- How to store user input in variables\n",
    "- How to convert user input to different data types\n"
   ]
  },
  {
   "cell_type": "markdown",
   "metadata": {},
   "source": [
    "## 📝 Accepting User Input\n",
    "\n",
    "- The `input()` function in Python allows you to accept user input as a string. \n",
    "- This input can be stored in a variable and used later in your program."
   ]
  },
  {
   "cell_type": "code",
   "execution_count": 1,
   "metadata": {},
   "outputs": [
    {
     "name": "stdout",
     "output_type": "stream",
     "text": [
      "Hello, Roman\n"
     ]
    }
   ],
   "source": [
    "name = input(\"Enter your name: \")\n",
    "print(\"Hello,\", name)"
   ]
  },
  {
   "cell_type": "markdown",
   "metadata": {},
   "source": [
    "\n",
    "\n",
    "- The `input()` function displays a prompt and waits for the user to type something and press Enter.\n",
    "\n"
   ]
  },
  {
   "cell_type": "markdown",
   "metadata": {},
   "source": [
    "## 🔄 Converting User Input\n",
    "\n",
    "- By default, `input()` returns a string.\n",
    "- To use this input in mathematical operations, you need to convert it to the appropriate data type, such as int() for integers or float() for floating-point numbers."
   ]
  },
  {
   "cell_type": "code",
   "execution_count": 3,
   "metadata": {},
   "outputs": [
    {
     "name": "stdout",
     "output_type": "stream",
     "text": [
      "You are 20 years old.\n"
     ]
    }
   ],
   "source": [
    "age = input(\"Enter your age: \")\n",
    "age = int(age)\n",
    "print(\"You are\", age, \"years old.\")"
   ]
  },
  {
   "cell_type": "markdown",
   "metadata": {},
   "source": [
    "\n",
    "- This converts the age input from a string to an integer.\n"
   ]
  },
  {
   "cell_type": "markdown",
   "metadata": {},
   "source": [
    "\n",
    "\n",
    "## 🧪 Practical Example: Simple Calculator\n",
    "\n",
    "- Create a program that:\n",
    "  - Accepts two numbers from the user.\n",
    "  - Performs basic arithmetic operations.\n",
    "  - Displays the results using `print()`.\n",
    "\n"
   ]
  },
  {
   "cell_type": "code",
   "execution_count": 2,
   "metadata": {},
   "outputs": [
    {
     "name": "stdout",
     "output_type": "stream",
     "text": [
      "10.0 + 5.0 = 15.0\n",
      "10.0 - 5.0 = 5.0\n",
      "10.0 * 5.0 = 50.0\n",
      "10.0 / 5.0 = 2.0\n"
     ]
    }
   ],
   "source": []
  },
  {
   "cell_type": "markdown",
   "metadata": {},
   "source": [
    "\n",
    "## 📦 Storing Multiple Inputs\n",
    "\n",
    "- You can store multiple inputs in different variables and use them together to create more complex outputs. \n",
    "- This is useful for combining pieces of information provided by the user.\n"
   ]
  },
  {
   "cell_type": "code",
   "execution_count": 4,
   "metadata": {},
   "outputs": [
    {
     "name": "stdout",
     "output_type": "stream",
     "text": [
      "Hello, Roman Bukhovko\n"
     ]
    }
   ],
   "source": [
    "first_name = input(\"Enter your first name: \")\n",
    "last_name = input(\"Enter your last name: \")\n",
    "\n",
    "print(\"Hello,\", first_name, last_name)"
   ]
  },
  {
   "cell_type": "markdown",
   "metadata": {},
   "source": [
    "\n",
    "- Combines multiple inputs to form a complete output."
   ]
  },
  {
   "cell_type": "markdown",
   "metadata": {},
   "source": [
    "## Try it for yourself!\n",
    "\n",
    "- Have your name stored in a variable called `myName`\n",
    "- Have your age stored in a variable called 'myAge'\n",
    "- Print your name and age"
   ]
  },
  {
   "cell_type": "code",
   "execution_count": 1,
   "metadata": {},
   "outputs": [
    {
     "name": "stdout",
     "output_type": "stream",
     "text": [
      "11\n"
     ]
    }
   ],
   "source": []
  }
 ],
 "metadata": {
  "kernelspec": {
   "display_name": ".venv",
   "language": "python",
   "name": "python3"
  },
  "language_info": {
   "codemirror_mode": {
    "name": "ipython",
    "version": 3
   },
   "file_extension": ".py",
   "mimetype": "text/x-python",
   "name": "python",
   "nbconvert_exporter": "python",
   "pygments_lexer": "ipython3",
   "version": "3.8.10"
  }
 },
 "nbformat": 4,
 "nbformat_minor": 2
}
