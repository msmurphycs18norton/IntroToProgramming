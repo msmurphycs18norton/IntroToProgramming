{
 "cells": [
  {
   "cell_type": "markdown",
   "metadata": {},
   "source": [
    "# Arithmetic and Compound Operations 🧮\n",
    "\n",
    "## 📚 What will we learn?\n",
    "\n",
    "- How to perform basic arithmetic operations\n",
    "- How to use compound assignment operators\n",
    "\n"
   ]
  },
  {
   "cell_type": "markdown",
   "metadata": {},
   "source": [
    "## ➕ Basic Arithmetic Operations\n",
    "\n",
    "- Basic arithmetic operations in Python include addition (`+`), subtraction (`-`), multiplication (`*`), and division (`/`). \n",
    "- These operations allow you to perform fundamental calculations and manipulate numerical data easily."
   ]
  },
  {
   "cell_type": "code",
   "execution_count": 6,
   "metadata": {},
   "outputs": [
    {
     "name": "stdout",
     "output_type": "stream",
     "text": [
      "15\n",
      "5\n",
      "50\n"
     ]
    }
   ],
   "source": [
    "a = 10\n",
    "b = 5\n",
    "\n",
    "print(a + b)  # 15\n",
    "print(a - b)  # 5\n",
    "print(a * b)  # 50"
   ]
  },
  {
   "cell_type": "markdown",
   "metadata": {},
   "source": [
    "## 🧮 Division and Exponentiation\n",
    "\n",
    "- Division uses `/` and always returns a float, even if the numbers are integers.\n",
    "- Exponentiation (**) allows you to raise a number to the power of another number, enabling more complex mathematical calculations.\n"
   ]
  },
  {
   "cell_type": "code",
   "execution_count": 5,
   "metadata": {},
   "outputs": [
    {
     "name": "stdout",
     "output_type": "stream",
     "text": [
      "4.5\n",
      "81\n"
     ]
    }
   ],
   "source": [
    "a = 9\n",
    "b = 2\n",
    "\n",
    "print(a / b)  # 4.5\n",
    "print(a ** b) # 81"
   ]
  },
  {
   "cell_type": "markdown",
   "metadata": {},
   "source": [
    "## 📥 Compound Assignment Operators\n",
    "\n",
    "- Compound assignment operators combine an arithmetic operation with assignment, making code more concise and readable. \n",
    "- These include +=, -=, *=, /=, and **=, and they simplify repetitive tasks."
   ]
  },
  {
   "cell_type": "code",
   "execution_count": null,
   "metadata": {},
   "outputs": [],
   "source": [
    "x = 10\n",
    "x += 5  # x = x + 5\n",
    "x *= 2  # x = x * 2\n",
    "print(x) # 30"
   ]
  },
  {
   "cell_type": "markdown",
   "metadata": {},
   "source": [
    "## 🧑‍💻 Practical Example: Compound Operations\n",
    "\n",
    "- Use compound assignment operators to efficiently update variable values. \n",
    "- For example, you can decrease a total by 20 and then divide it by 4 using -= and /= operators."
   ]
  },
  {
   "cell_type": "code",
   "execution_count": null,
   "metadata": {},
   "outputs": [],
   "source": [
    "total = 100\n",
    "total -= 20  # total = total - 20\n",
    "total /= 4   # total = total / 4\n",
    "print(total) # 20.0"
   ]
  },
  {
   "cell_type": "markdown",
   "metadata": {},
   "source": [
    "\n",
    "\n",
    "- Decrease total by 20 and then divide by 4.\n",
    "- Shows use of `-=` and `/=`.\n",
    "\n",
    "## 📝 Practice Activity: Simple Calculator\n",
    "\n",
    "- Create a program that:\n",
    "    - Assigns two numbers to variables.\n",
    "    - Performs all basic arithmetic operations with these numbers.\n",
    "    - Displays the results using print()."
   ]
  },
  {
   "cell_type": "code",
   "execution_count": 3,
   "metadata": {},
   "outputs": [
    {
     "name": "stdout",
     "output_type": "stream",
     "text": [
      "8 + 3 = 11\n",
      "8 - 3 = 5\n",
      "8 * 3 = 24\n",
      "8 / 3 = 2.6666666666666665\n",
      "8 ** 3 = 512\n"
     ]
    }
   ],
   "source": []
  }
 ],
 "metadata": {
  "kernelspec": {
   "display_name": ".venv",
   "language": "python",
   "name": "python3"
  },
  "language_info": {
   "codemirror_mode": {
    "name": "ipython",
    "version": 3
   },
   "file_extension": ".py",
   "mimetype": "text/x-python",
   "name": "python",
   "nbconvert_exporter": "python",
   "pygments_lexer": "ipython3",
   "version": "3.8.10"
  }
 },
 "nbformat": 4,
 "nbformat_minor": 2
}
