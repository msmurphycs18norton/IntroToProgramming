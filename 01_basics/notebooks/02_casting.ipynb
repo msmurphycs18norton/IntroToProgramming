{
 "cells": [
  {
   "cell_type": "markdown",
   "metadata": {},
   "source": [
    "## Casting in Python 🐍\n",
    "\n",
    "### What will we cover today?\n",
    "- Reviewing printing strings\n",
    "- Understanding data types: string, integers, and decimals\n",
    "- Changing numbers into strings\n",
    "- Adding color to our text\n"
   ]
  },
  {
   "cell_type": "markdown",
   "metadata": {},
   "source": [
    "\n",
    "## Data Types\n",
    "\n",
    "Understanding the basics of data types in Python is crucial for manipulating and\n",
    "correctly utilizing variables.\n",
    "\n",
    "| Data Type | Description                             | Example |\n",
    "|:-----------|:-----------------------------------------|---------|\n",
    "| String (`str`) | Text enclosed in quotes.            | `\"Hello\"` |\n",
    "| Integer (`int`) | Whole numbers without a decimal.  | `5`      |\n",
    "| Decimal (`float`) | Numbers with a decimal point.     | `3.14`   |\n"
   ]
  },
  {
   "cell_type": "code",
   "execution_count": null,
   "metadata": {},
   "outputs": [],
   "source": [
    "\n",
    "string_example = \"Hello\"  # String\n",
    "int_example = 5           # Integer\n",
    "float_example = 3.14      # Decimal\n"
   ]
  },
  {
   "cell_type": "markdown",
   "metadata": {},
   "source": [
    "\n",
    "## Understanding Variable Types\n",
    "\n",
    "```python\n",
    "x = \"7\"  # x is a string because it's enclosed in quotes.\n",
    "```\n"
   ]
  },
  {
   "cell_type": "markdown",
   "metadata": {},
   "source": [
    "\n",
    "## Printing with Numbers\n",
    "\n",
    "Let's try to print \"I would buy 10 donuts if I had money!\" using the `donuts`\n",
    "variable below."
   ]
  },
  {
   "cell_type": "code",
   "execution_count": null,
   "metadata": {},
   "outputs": [],
   "source": [
    "\n",
    "donuts = 10\n",
    "print()\n"
   ]
  },
  {
   "cell_type": "markdown",
   "metadata": {},
   "source": [
    "\n",
    "## The Need for Casting in Concatenation\n",
    "\n",
    "Attempting to directly concatenate strings and integers without casting leads to\n",
    "errors.\n",
    "\n",
    "**Casting** is when we convert one data type to another, like turning integers\n",
    "into strings. We use `str()` to convert the integer to a string.\n",
    "\n",
    "```py\n",
    "donuts = 10\n",
    "str(donuts)\n",
    "```\n",
    "\n",
    "Casting is crucial when combining text with numbers as Python requires matching data types for operations like concatenation.\n"
   ]
  },
  {
   "cell_type": "code",
   "execution_count": null,
   "metadata": {},
   "outputs": [],
   "source": [
    "\n",
    "donuts = 10\n",
    "print(\"I would buy \" + str(donuts) + \" donuts if I had money!\")\n"
   ]
  },
  {
   "cell_type": "markdown",
   "metadata": {},
   "source": [
    "## Adding Color to Text\n",
    "\n",
    "Adding color to your text can enhance readability and aesthetics of your output.\n",
    "\n",
    "| Color     | Color Code |\n",
    "|-----------|------------|\n",
    "| Black     | `30` |\n",
    "| Red       | `31` |\n",
    "| Green     | `32` |\n",
    "| Yellow    | `33` |\n",
    "| Blue      | `34` |\n",
    "| Magenta   | `35` |\n",
    "| Cyan      | `36` |\n",
    "| White     | `37` |\n",
    "| Stop Coloring     | `0` |\n",
    "\n",
    "```py\n",
    "print(\"\\033[<COLOR CODE>m\"+\"colorful text\")\n",
    "```\n"
   ]
  },
  {
   "cell_type": "code",
   "execution_count": null,
   "metadata": {},
   "outputs": [],
   "source": [
    "print(\"\\033[34m\" + \"This text will be blue.\")\n",
    "print(\"\\033[31m\" + \"This text will be red.\")\n",
    "print(\"\\033[32m\" + \"This text will be green.\")\n"
   ]
  },
  {
   "cell_type": "markdown",
   "metadata": {},
   "source": [
    "\n",
    "### Resetting Text Color\n",
    "\n",
    "Resetting the color back to default after a colored print statement is essential for maintaining a clean output."
   ]
  },
  {
   "cell_type": "code",
   "execution_count": null,
   "metadata": {},
   "outputs": [],
   "source": [
    "print(\"\\033[32m\" + \"Green\" + \"\\033[0m\" + \" \"+ \"\\033[31m\" + \"Red\" + \"\\033[0m\")\n"
   ]
  }
 ],
 "metadata": {
  "kernelspec": {
   "display_name": ".venv",
   "language": "python",
   "name": "python3"
  },
  "language_info": {
   "codemirror_mode": {
    "name": "ipython",
    "version": 3
   },
   "file_extension": ".py",
   "mimetype": "text/x-python",
   "name": "python",
   "nbconvert_exporter": "python",
   "pygments_lexer": "ipython3",
   "version": "3.8.10"
  },
  "orig_nbformat": 4
 },
 "nbformat": 4,
 "nbformat_minor": 2
}
