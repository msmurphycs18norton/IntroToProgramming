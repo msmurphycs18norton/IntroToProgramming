{
 "cells": [
  {
   "cell_type": "markdown",
   "metadata": {},
   "source": [
    "## 🚀 Starting with Grader Than Workspace IDE\n",
    "\n",
    "Getting started with Grader Than Workspace IDE and Jupyter. Right now you are in\n",
    "a Jupyter file. It's like a interactive coding notebook. \n",
    "\n",
    "### How to run a code cell?\n",
    "\n",
    "Below are code cells press the play button ▶️ next to the code cell. To run the\n",
    "code. Below is a gif demoing how to run the code\n",
    "\n",
    "![Run Cell](../media/start-jupyter-cell.gif)\n"
   ]
  },
  {
   "cell_type": "markdown",
   "metadata": {},
   "source": [
    "\n",
    "## 🧵 What is a String?\n",
    "\n",
    "A string is a series of characters, like words or sentences, enclosed in quotes.\n",
    "\n",
    "```python\n",
    "\"Hello world!\"\n"
   ]
  },
  {
   "cell_type": "markdown",
   "metadata": {},
   "source": [
    "## 🖨️ Printing \"Hello world!\"\n",
    "\n",
    "Run the code below by pressing the play button to the right of the code cell."
   ]
  },
  {
   "cell_type": "code",
   "execution_count": 3,
   "metadata": {},
   "outputs": [
    {
     "name": "stdout",
     "output_type": "stream",
     "text": [
      "Hello World!\n"
     ]
    }
   ],
   "source": [
    "print(\"Hello World!\")"
   ]
  },
  {
   "cell_type": "markdown",
   "metadata": {},
   "source": [
    "\n",
    "- `print()` is a function that displays the text or variable content in the console.\n"
   ]
  },
  {
   "cell_type": "markdown",
   "metadata": {},
   "source": [
    "\n",
    "## 📦 What is a String Variable?\n",
    "\n",
    "A variable is used to store information. A string variable stores text.\n"
   ]
  },
  {
   "cell_type": "code",
   "execution_count": 4,
   "metadata": {},
   "outputs": [
    {
     "name": "stdout",
     "output_type": "stream",
     "text": [
      "Tony\n"
     ]
    }
   ],
   "source": [
    "name = \"Tony\"\n",
    "print(name)\n"
   ]
  },
  {
   "cell_type": "markdown",
   "metadata": {},
   "source": [
    "\n",
    "- This assigns the string `\"Tony\"` to the variable `name`, then prints it.\n"
   ]
  },
  {
   "cell_type": "markdown",
   "metadata": {},
   "source": [
    "\n",
    "## 🤔 Printing with Variables\n",
    "\n",
    "What if you want to include additional words with your variable in a print statement?\n"
   ]
  },
  {
   "cell_type": "code",
   "execution_count": null,
   "metadata": {},
   "outputs": [],
   "source": [
    "name = \"Stark\"\n",
    "print(\"Tony name\")"
   ]
  },
  {
   "cell_type": "markdown",
   "metadata": {},
   "source": [
    "\n",
    "- This attempts to print a variable with additional text but doesn't interpret `name` as a variable.\n"
   ]
  },
  {
   "cell_type": "markdown",
   "metadata": {},
   "source": [
    "\n",
    "## 🛠 Fixing the Print Statement\n",
    "\n",
    "To correctly include a variable with text, use the correct syntax:\n"
   ]
  },
  {
   "cell_type": "code",
   "execution_count": null,
   "metadata": {},
   "outputs": [],
   "source": [
    "name = \"Stark\"\n",
    "print(\"Tony\", name)"
   ]
  },
  {
   "cell_type": "markdown",
   "metadata": {},
   "source": [
    "\n",
    "- This correctly prints: `Tony Stark` by using a comma to separate strings and variables in the `print()` function."
   ]
  },
  {
   "cell_type": "markdown",
   "metadata": {},
   "source": [
    "\n",
    "## ✨ String Concatenation Magic\n"
   ]
  },
  {
   "cell_type": "code",
   "execution_count": null,
   "metadata": {},
   "outputs": [],
   "source": [
    "name = \"Iron\"\n",
    "print(name + \"man\")"
   ]
  },
  {
   "cell_type": "markdown",
   "metadata": {},
   "source": [
    "\n",
    "- Demonstrates string concatenation with `+`, showing no space between \"Iron\" and \"man\".\n"
   ]
  },
  {
   "cell_type": "markdown",
   "metadata": {},
   "source": [
    "\n",
    "## 🍳 Cooking with Code\n",
    "\n",
    "**Try is out!**\n",
    "\n",
    "Go to the Grader Than Feedback assignment:\n",
    "\n",
    "- Craft a recipe for your favorite meal using `print` statements.\n",
    "- Utilize variables to hold your ingredients list.\n",
    "- Incorporate these variables within `print` statements to detail the recipe creation steps."
   ]
  },
  {
   "cell_type": "markdown",
   "metadata": {
    "deletable": false,
    "editable": false,
    "scrolled": true,
    "trusted": true
   },
   "source": [
    "[© Grader Than Technology LLC](https://www.graderthan.com/)"
   ]
  }
 ],
 "metadata": {
  "kernelspec": {
   "display_name": ".venv",
   "language": "python",
   "name": "python3"
  },
  "language_info": {
   "codemirror_mode": {
    "name": "ipython",
    "version": 3
   },
   "file_extension": ".py",
   "mimetype": "text/x-python",
   "name": "python",
   "nbconvert_exporter": "python",
   "pygments_lexer": "ipython3",
   "version": "3.10.14"
  },
  "orig_nbformat": 4
 },
 "nbformat": 4,
 "nbformat_minor": 2
}
