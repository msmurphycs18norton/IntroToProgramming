{
 "cells": [
  {
   "cell_type": "markdown",
   "metadata": {},
   "source": [
    "# 📚 Lists in Python\n",
    "\n",
    "## 🤔 What are Lists?\n",
    "\n",
    "### Overview\n",
    "- **Lists:** A type of data structure in Python.\n",
    "- **Purpose:** Used to store multiple items in a single variable.\n",
    "- **Mutability:** Lists are mutable, meaning they can be changed after creation."
   ]
  },
  {
   "cell_type": "code",
   "execution_count": null,
   "metadata": {},
   "outputs": [],
   "source": [
    "# Creating a list\n",
    "my_list = [1, 2, 3, \"apple\", \"banana\"]\n",
    "print(my_list)"
   ]
  },
  {
   "cell_type": "markdown",
   "metadata": {},
   "source": [
    "## 🛠️ Creating Lists\n",
    "\n",
    "### Overview\n",
    "- **Creation:** Use square brackets `[]` to create lists.\n",
    "- **Mixed Data Types:** Lists can store mixed data types.\n",
    "- **Empty List:** You can create an empty list using `[]`."
   ]
  },
  {
   "cell_type": "code",
   "execution_count": null,
   "metadata": {},
   "outputs": [],
   "source": [
    "# Creating a list\n",
    "my_list = [1, 2, 3, \"apple\", \"banana\"]\n",
    "print(my_list)\n",
    "\n",
    "# Creating an empty list\n",
    "empty_list = []\n",
    "print(empty_list)"
   ]
  },
  {
   "cell_type": "markdown",
   "metadata": {},
   "source": [
    "### Try it out\n",
    "Create your own list about a superhero with different data types and print it."
   ]
  },
  {
   "cell_type": "code",
   "execution_count": null,
   "metadata": {},
   "outputs": [],
   "source": []
  },
  {
   "cell_type": "markdown",
   "metadata": {},
   "source": [
    "## 🔍 Accessing and Modifying List Elements\n",
    "\n",
    "### Overview\n",
    "- **Indexing:** Use indexing to access list elements.\n",
    "- **Zero-Based Index:** Indexing starts at 0.\n",
    "- **Negative Indexing:** Lists support negative indexing to access elements from the end.\n",
    "- **Modification:** Modify elements by assigning new values."
   ]
  },
  {
   "cell_type": "code",
   "execution_count": null,
   "metadata": {},
   "outputs": [],
   "source": [
    "# Accessing elements\n",
    "print(my_list[0])  # Output: 1\n",
    "print(my_list[3])  # Output: apple\n",
    "\n",
    "# Modifying elements\n",
    "my_list[1] = \"orange\"\n",
    "print(my_list)  # Output: [1, 'orange', 3, 'apple', 'banana']"
   ]
  },
  {
   "cell_type": "markdown",
   "metadata": {},
   "source": [
    "### Try it out\n",
    "Access the first and last elements of your list, modify the second element, and print the updated list."
   ]
  },
  {
   "cell_type": "code",
   "execution_count": null,
   "metadata": {},
   "outputs": [],
   "source": []
  },
  {
   "cell_type": "markdown",
   "metadata": {},
   "source": [
    "## 🧰 List Methods\n",
    "\n",
    "### Overview\n",
    "- **Append:** `append()` adds an element to the end.\n",
    "- **Remove:** `remove()` deletes the first matching element.\n",
    "- **Sort:** `sort()` arranges elements in order.\n",
    "- **Reverse:** `reverse()` reverses the order of elements."
   ]
  },
  {
   "cell_type": "code",
   "execution_count": null,
   "metadata": {},
   "outputs": [],
   "source": [
    "# Appending and removing elements\n",
    "my_list.append(\"cherry\")\n",
    "print(my_list)  # Output: [1, 'orange', 3, 'apple', 'banana', 'cherry']\n",
    "\n",
    "my_list.remove(\"apple\")\n",
    "print(my_list)  # Output: [1, 'orange', 3, 'banana', 'cherry']\n",
    "\n",
    "# Sorting and reversing elements\n",
    "num_list = [3, 1, 4, 1, 5, 9]\n",
    "num_list.sort()\n",
    "print(num_list)  # Output: [1, 1, 3, 4, 5, 9]\n",
    "\n",
    "num_list.reverse()\n",
    "print(num_list)  # Output: [9, 5, 4, 3, 1, 1]"
   ]
  },
  {
   "cell_type": "markdown",
   "metadata": {},
   "source": [
    "### Try it out\n",
    "Add a new element to your list, remove an existing element, sort the list, and then reverse it."
   ]
  },
  {
   "cell_type": "code",
   "execution_count": null,
   "metadata": {},
   "outputs": [],
   "source": []
  },
  {
   "cell_type": "markdown",
   "metadata": {},
   "source": [
    "## 🔄 List Comprehensions\n",
    "\n",
    "### Overview\n",
    "- **List Comprehensions:** Create lists using a concise syntax.\n",
    "- **Loops and Conditionals:** Combine loops and conditionals to generate new lists.\n",
    "- **Readability:** Enhance code readability and efficiency."
   ]
  },
  {
   "cell_type": "code",
   "execution_count": null,
   "metadata": {},
   "outputs": [],
   "source": [
    "# List comprehension\n",
    "squares = [x**2 for x in range(5)]\n",
    "print(squares)  # Output: [0, 1, 4, 9, 16]\n",
    "\n",
    "# List comprehension with condition\n",
    "evens = [x for x in range(10) if x % 2 == 0]\n",
    "print(evens)  # Output: [0, 2, 4, 6, 8]"
   ]
  },
  {
   "cell_type": "markdown",
   "metadata": {},
   "source": [
    "### Try it out\n",
    "Create a list comprehension that generates the first 10 odd numbers and print it."
   ]
  },
  {
   "cell_type": "code",
   "execution_count": null,
   "metadata": {},
   "outputs": [],
   "source": []
  },
  {
   "cell_type": "markdown",
   "metadata": {},
   "source": [
    "## Final Interactive Activity\n",
    "\n",
    "### Create a List of Tuples\n",
    "Create a list of tuples that represents a small dataset, such as student names and their grades. Access and print specific elements from this structure."
   ]
  },
  {
   "cell_type": "code",
   "execution_count": null,
   "metadata": {
    "vscode": {
     "languageId": "plaintext"
    }
   },
   "outputs": [],
   "source": []
  },
  {
   "cell_type": "markdown",
   "metadata": {},
   "source": [
    "<details>\n",
    "<summary>🔑 Click here for the solution</summary>\n",
    "\n",
    "```py\n",
    "# Example dataset: [(\"Alice\", 85), (\"Bob\", 90), (\"Charlie\", 78)]\n",
    "students = [(\"Alice\", 85), (\"Bob\", 90), (\"Charlie\", 78)]\n",
    "\n",
    "# Accessing tuple elements in the list\n",
    "print(students[0])        # Output: ('Alice', 85)\n",
    "print(students[1][0])     # Output: Bob\n",
    "print(students[2][1])     # Output: 78\n",
    "\n",
    "# Your turn: Create your own list of tuples representing a dataset and access specific elements within it.\n",
    "your_students = [(\"David\", 88), (\"Eva\", 92), (\"Frank\", 75)]\n",
    "\n",
    "print(your_students[0])       # Access and print the first student's data\n",
    "print(your_students[1][0])    # Access and print the second student's name\n",
    "print(your_students[2][1])    # Access and print the third student's grade\n",
    "```\n",
    "\n",
    "</details>"
   ]
  }
 ],
 "metadata": {
  "language_info": {
   "name": "python"
  }
 },
 "nbformat": 4,
 "nbformat_minor": 2
}
