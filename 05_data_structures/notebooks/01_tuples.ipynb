{
 "cells": [
  {
   "cell_type": "markdown",
   "metadata": {},
   "source": [
    "# 📚 Tuples in Python\n",
    "\n",
    "## 🤔 What are Tuples?\n",
    "\n",
    "### Overview\n",
    "- **Tuples:** A type of data structure in Python.\n",
    "- **Purpose:** Used to store multiple items in a single variable.\n",
    "- **Immutability:** Tuples are immutable, meaning they cannot be changed after creation."
   ]
  },
  {
   "cell_type": "code",
   "execution_count": null,
   "metadata": {},
   "outputs": [],
   "source": [
    "# Creating a tuple\n",
    "my_tuple = (1, 2, 3, \"apple\", \"banana\")\n",
    "print(my_tuple)"
   ]
  },
  {
   "cell_type": "markdown",
   "metadata": {},
   "source": [
    "## 🛠️ How to Create Tuples?\n",
    "\n",
    "### Overview\n",
    "- **Creation:** Use parentheses `()` to create tuples.\n",
    "- **Mixed Data Types:** Tuples can store mixed data types.\n",
    "- **Empty Tuple:** You can create an empty tuple using `()`."
   ]
  },
  {
   "cell_type": "code",
   "execution_count": null,
   "metadata": {},
   "outputs": [],
   "source": [
    "# Creating a tuple\n",
    "my_tuple = (1, 2, 3, \"apple\", \"banana\")\n",
    "print(my_tuple)\n",
    "\n",
    "# Creating an empty tuple\n",
    "empty_tuple = ()\n",
    "print(empty_tuple)"
   ]
  },
  {
   "cell_type": "markdown",
   "metadata": {},
   "source": [
    "### Try it out\n",
    "Create your own tuple about a superhero with at least 5 elements, including\n",
    "different data types, and print it. (Include the name of the superhero, powers,\n",
    "the city they protect, etc.)"
   ]
  },
  {
   "cell_type": "code",
   "execution_count": null,
   "metadata": {},
   "outputs": [],
   "source": []
  },
  {
   "cell_type": "markdown",
   "metadata": {},
   "source": [
    "## 🔍 Accessing Elements in a Tuple\n",
    "\n",
    "### Overview\n",
    "- **Indexing:** Use indexing to access tuple elements.\n",
    "- **Zero-Based Index:** Indexing starts at 0.\n",
    "- **Negative Indexing:** Tuples support negative indexing to access elements from the end."
   ]
  },
  {
   "cell_type": "code",
   "execution_count": null,
   "metadata": {},
   "outputs": [],
   "source": [
    "# Accessing elements\n",
    "print(my_tuple[0])  # Output: 1\n",
    "print(my_tuple[3])  # Output: apple\n",
    "print(my_tuple[-1]) # Output: banana"
   ]
  },
  {
   "cell_type": "markdown",
   "metadata": {},
   "source": [
    "### Try it out\n",
    "Access the first and last elements of your previous tuple and print them."
   ]
  },
  {
   "cell_type": "code",
   "execution_count": null,
   "metadata": {},
   "outputs": [],
   "source": []
  },
  {
   "cell_type": "markdown",
   "metadata": {},
   "source": [
    "## 🚫 Immutability of Tuples\n",
    "\n",
    "### Overview\n",
    "- **Immutability:** Tuples cannot be changed after creation.\n",
    "- **Error on Modification:** Any attempt to modify a tuple will result in an error.\n",
    "- **Read-Only Data:** Immutability makes tuples useful for storing read-only data."
   ]
  },
  {
   "cell_type": "code",
   "execution_count": null,
   "metadata": {},
   "outputs": [],
   "source": [
    "# Attempting to change a tuple element\n",
    "try:\n",
    "    my_tuple[1] = \"orange\"  # This will cause an error\n",
    "except TypeError as e:\n",
    "    print(e)"
   ]
  },
  {
   "cell_type": "markdown",
   "metadata": {},
   "source": [
    "### Try it out\n",
    "Try to modify an element in your previous tuple and observe the error."
   ]
  },
  {
   "cell_type": "code",
   "execution_count": null,
   "metadata": {},
   "outputs": [],
   "source": []
  },
  {
   "cell_type": "markdown",
   "metadata": {},
   "source": [
    "## 🔄 Common Tuple Operations\n",
    "\n",
    "### Overview\n",
    "- **Slicing:** Use slicing to get a range of elements.\n",
    "- **Negative Indexing:** Access elements from the end.\n",
    "- **Concatenation:** Concatenate tuples using the `+` operator.\n",
    "- **Repetition:** Repeat tuples with the `*` operator."
   ]
  },
  {
   "cell_type": "code",
   "execution_count": null,
   "metadata": {},
   "outputs": [],
   "source": [
    "# Indexing and slicing\n",
    "print(my_tuple[1:3])  # Output: (2, 3)\n",
    "print(my_tuple[-1])  # Output: banana\n",
    "\n",
    "# Concatenation\n",
    "new_tuple = my_tuple + (\"cherry\",)\n",
    "print(new_tuple)  # Output: (1, 2, 3, 'apple', 'banana', 'cherry')\n",
    "\n",
    "# Repetition\n",
    "repeated_tuple = my_tuple * 2\n",
    "print(repeated_tuple)  # Output: (1, 2, 3, 'apple', 'banana', 1, 2, 3, 'apple', 'banana')"
   ]
  },
  {
   "cell_type": "markdown",
   "metadata": {},
   "source": [
    "### Try it out\n",
    "Slice your tuple to get the middle three elements and print them."
   ]
  },
  {
   "cell_type": "code",
   "execution_count": null,
   "metadata": {},
   "outputs": [],
   "source": []
  },
  {
   "cell_type": "markdown",
   "metadata": {},
   "source": [
    "## Create a Tuple of Tuples\n",
    "Create a tuple of tuples that represents a small dataset, such as student names and their grades. Access and print specific elements from this structure."
   ]
  },
  {
   "cell_type": "code",
   "execution_count": null,
   "metadata": {},
   "outputs": [],
   "source": []
  },
  {
   "cell_type": "markdown",
   "metadata": {},
   "source": [
    "<details>\n",
    "<summary>🔑 Click here for the solution</summary>\n",
    "\n",
    "```py\n",
    "# Example dataset: ((\"Alice\", 85), (\"Bob\", 90), (\"Charlie\", 78))\n",
    "students = ((\"Alice\", 85), (\"Bob\", 90), (\"Charlie\", 78))\n",
    "\n",
    "# Accessing tuple elements\n",
    "print(students[0])        # Output: ('Alice', 85)\n",
    "print(students[1][0])     # Output: Bob\n",
    "print(students[2][1])     # Output: 78\n",
    "\n",
    "# Your turn: Create your own tuple of tuples representing a dataset and access specific elements within it.\n",
    "your_students = ((\"David\", 88), (\"Eva\", 92), (\"Frank\", 75))\n",
    "\n",
    "print(your_students[0])       # Access and print the first student's data\n",
    "print(your_students[1][0])    # Access and print the second student's name\n",
    "print(your_students[2][1])    # Access and print the third student's grade\n",
    "```\n",
    "</details>"
   ]
  }
 ],
 "metadata": {
  "language_info": {
   "name": "python"
  }
 },
 "nbformat": 4,
 "nbformat_minor": 2
}
