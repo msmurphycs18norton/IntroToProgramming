{
 "cells": [
  {
   "cell_type": "markdown",
   "metadata": {},
   "source": [
    "# 📚 Dictionaries in Python\n",
    "\n",
    "## 🤔 What are Dictionaries?\n",
    "\n",
    "### Overview\n",
    "- **Dictionaries:** Collections of key-value pairs.\n",
    "- **Unique Keys:** Each key is unique and maps to a value.\n",
    "- **Mutability:** Dictionaries are mutable, meaning they can be changed after creation."
   ]
  },
  {
   "cell_type": "code",
   "execution_count": null,
   "metadata": {},
   "outputs": [],
   "source": [
    "# Creating a dictionary\n",
    "my_dict = {\"name\": \"Alice\", \"age\": 25, \"city\": \"New York\"}\n",
    "print(my_dict)"
   ]
  },
  {
   "cell_type": "markdown",
   "metadata": {},
   "source": [
    "## 🛠️ Creating Dictionaries\n",
    "\n",
    "### Overview\n",
    "- **Creation:** Use curly braces `{}` to create dictionaries.\n",
    "- **Key-Value Pairs:** Keys and values are separated by colons `:`.\n",
    "- **Empty Dictionary:** You can create an empty dictionary using `{}`."
   ]
  },
  {
   "cell_type": "code",
   "execution_count": null,
   "metadata": {},
   "outputs": [],
   "source": [
    "# Creating a dictionary\n",
    "my_dict = {\"name\": \"Alice\", \"age\": 25, \"city\": \"New York\"}\n",
    "print(my_dict)\n",
    "\n",
    "# Creating an empty dictionary\n",
    "empty_dict = {}\n",
    "print(empty_dict)"
   ]
  },
  {
   "cell_type": "markdown",
   "metadata": {},
   "source": [
    "### Try it out\n",
    "Create your own dictionary about a superhero with at least 3 key-value pairs,\n",
    "different data types, and print it."
   ]
  },
  {
   "cell_type": "code",
   "execution_count": null,
   "metadata": {},
   "outputs": [],
   "source": []
  },
  {
   "cell_type": "markdown",
   "metadata": {},
   "source": [
    "## 🔍 Accessing and Modifying Dictionary Elements\n",
    "\n",
    "### Overview\n",
    "- **Access by Keys:** Access elements by their keys.\n",
    "- **Modification:** Modify elements by assigning new values.\n",
    "- **Add Key-Value Pairs:** Add new key-value pairs.\n",
    "- **Delete Key-Value Pairs:** Delete key-value pairs."
   ]
  },
  {
   "cell_type": "code",
   "execution_count": null,
   "metadata": {},
   "outputs": [],
   "source": [
    "# Accessing elements\n",
    "print(my_dict[\"name\"])  # Output: Alice\n",
    "\n",
    "# Modifying elements\n",
    "my_dict[\"age\"] = 26\n",
    "print(my_dict)  # Output: {'name': 'Alice', 'age': 26, 'city': 'New York'}\n",
    "\n",
    "# Adding new key-value pairs\n",
    "my_dict[\"country\"] = \"USA\"\n",
    "print(my_dict)  # Output: {'name': 'Alice', 'age': 26, 'city': 'New York', 'country': 'USA'}\n",
    "\n",
    "# Deleting key-value pairs\n",
    "del my_dict[\"city\"]\n",
    "print(my_dict)  # Output: {'name': 'Alice', 'age': 26, 'country': 'USA'}"
   ]
  },
  {
   "cell_type": "markdown",
   "metadata": {},
   "source": [
    "### Try it out\n",
    "Access a value in your dictionary, modify it, add a new key-value pair, and delete an existing key-value pair. Print the updated dictionary."
   ]
  },
  {
   "cell_type": "code",
   "execution_count": null,
   "metadata": {},
   "outputs": [],
   "source": []
  },
  {
   "cell_type": "markdown",
   "metadata": {},
   "source": [
    "## 🧰 Dictionary Methods\n",
    "\n",
    "### Overview\n",
    "- **Keys:** `keys()` returns all keys.\n",
    "- **Values:** `values()` returns all values.\n",
    "- **Items:** `items()` returns key-value pairs.\n",
    "- **Update:** `update()` adds key-value pairs from another dictionary."
   ]
  },
  {
   "cell_type": "code",
   "execution_count": null,
   "metadata": {},
   "outputs": [],
   "source": [
    "# Dictionary methods\n",
    "print(my_dict.keys())    # Output: dict_keys(['name', 'age', 'country'])\n",
    "print(my_dict.values())  # Output: dict_values(['Alice', 26, 'USA'])\n",
    "print(my_dict.items())   # Output: dict_items([('name', 'Alice'), ('age', 26), ('country', 'USA')])\n",
    "\n",
    "# Updating a dictionary with another dictionary\n",
    "new_info = {\"email\": \"alice@example.com\", \"age\": 27}\n",
    "my_dict.update(new_info)\n",
    "print(my_dict)  # Output: {'name': 'Alice', 'age': 27, 'country': 'USA', 'email': 'alice@example.com'}"
   ]
  },
  {
   "cell_type": "markdown",
   "metadata": {},
   "source": [
    "### Try it out\n",
    "Use a dictionary method to get and print all the keys and values in your dictionary. Update your dictionary with another dictionary."
   ]
  },
  {
   "cell_type": "code",
   "execution_count": null,
   "metadata": {},
   "outputs": [],
   "source": []
  },
  {
   "cell_type": "markdown",
   "metadata": {},
   "source": [
    "## 🔄 Using Dictionaries for Data Operations\n",
    "\n",
    "### Overview\n",
    "- **Adding Information:** Add new key-value pairs to store additional information.\n",
    "- **Organization:** Use dictionaries to organize and retrieve data efficiently.\n",
    "- **Iteration:** Iterate over dictionary keys and values for data processing.\n",
    "- **Combination:** Combine dictionaries for comprehensive data storage."
   ]
  },
  {
   "cell_type": "code",
   "execution_count": null,
   "metadata": {},
   "outputs": [],
   "source": [
    "# Using dictionaries in operations\n",
    "my_dict[\"hobbies\"] = [\"reading\", \"cycling\"]\n",
    "print(my_dict)  # Output: {'name': 'Alice', 'age': 27, 'country': 'USA', 'email': 'alice@example.com', 'hobbies': ['reading', 'cycling']}\n",
    "\n",
    "# Iterating over dictionary keys and values\n",
    "for key, value in my_dict.items():\n",
    "    print(f\"{key}: {value}\")"
   ]
  },
  {
   "cell_type": "markdown",
   "metadata": {},
   "source": [
    "### Try it out\n",
    "Add a new key-value pair to your dictionary, and iterate over the keys and values to print each key-value pair."
   ]
  },
  {
   "cell_type": "code",
   "execution_count": null,
   "metadata": {},
   "outputs": [],
   "source": []
  },
  {
   "cell_type": "markdown",
   "metadata": {},
   "source": [
    "## Create a Complex Dictionary\n",
    "Create a complex dictionary containing a mix of tuples and lists. Access and print specific elements from this structure."
   ]
  },
  {
   "cell_type": "code",
   "execution_count": null,
   "metadata": {},
   "outputs": [],
   "source": []
  },
  {
   "cell_type": "markdown",
   "metadata": {},
   "source": [
    "<details>\n",
    "<summary>🔑 Click here for the solution</summary>\n",
    "\n",
    "```py\n",
    "# Example complex dictionary\n",
    "complex_dict = {\n",
    "    \"person\": (\"John\", 40, \"Boston\"),\n",
    "    \"favorites\": [\"blue\", \"pizza\", \"reading\"],\n",
    "    \"scores\": [85, 90, 88]\n",
    "}\n",
    "\n",
    "# Accessing elements in the complex dictionary\n",
    "print(complex_dict[\"person\"])        # Output: ('John', 40, 'Boston')\n",
    "print(complex_dict[\"favorites\"][1])  # Output: pizza\n",
    "print(complex_dict[\"scores\"][2])     # Output: 88\n",
    "\n",
    "# Your turn: Create your own complex dictionary and access specific elements within it.\n",
    "your_complex_dict = {\n",
    "    \"vehicle\": (\"Tesla\", \"Model S\", 2020),\n",
    "    \"features\": [\"autopilot\", \"electric\", \"luxury\"],\n",
    "    \"performance\": [0-60 in 3.1, 390 miles range, 155 mph top speed]\n",
    "}\n",
    "\n",
    "print(your_complex_dict[\"vehicle\"])         # Access and print the vehicle's data\n",
    "print(your_complex_dict[\"features\"][0])     # Access and print the first feature\n",
    "print(your_complex_dict[\"performance\"][1])  # Access and print the second performance metric\n",
    "```\n",
    "\n",
    "</details>"
   ]
  }
 ],
 "metadata": {
  "language_info": {
   "name": "python"
  }
 },
 "nbformat": 4,
 "nbformat_minor": 2
}
